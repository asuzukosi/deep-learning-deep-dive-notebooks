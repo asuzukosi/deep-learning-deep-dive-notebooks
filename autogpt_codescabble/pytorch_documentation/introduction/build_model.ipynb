{
 "cells": [
  {
   "cell_type": "code",
   "execution_count": 1,
   "metadata": {},
   "outputs": [],
   "source": [
    "# Neural network comprise of layers/modules that perform operations on the data\n",
    "# They are also called multi-layer perceptrons\n",
    "# The torch.nn namespace provides all the building blocks needed to build a neural network\n",
    "\n",
    "# Every module in pytorch subclasses Module itself. A neural network is a module anc consists of other modules\n",
    "\n",
    "\n",
    "import os\n",
    "import torch\n",
    "from torch import nn\n",
    "from torch.utils.data import DataLoader\n",
    "from torchvision import datasets, transforms"
   ]
  },
  {
   "cell_type": "code",
   "execution_count": 2,
   "metadata": {},
   "outputs": [],
   "source": [
    "# set device backend\n",
    "device = \"mps\""
   ]
  },
  {
   "cell_type": "code",
   "execution_count": 3,
   "metadata": {},
   "outputs": [],
   "source": [
    "class NeuralNetwork(nn.Module):\n",
    "    def __init__(self):\n",
    "        super().__init__()\n",
    "        self.flatten = nn.Flatten()\n",
    "        self.linear_relu_stack = nn.Sequential(\n",
    "            nn.Linear(28*28, 512),\n",
    "            nn.ReLU(),\n",
    "            nn.Linear(512, 512),\n",
    "            nn.ReLU(),\n",
    "            nn.Linear(512, 10),\n",
    "        )\n",
    "    \n",
    "    def forward(self, x):\n",
    "        x = self.flatten(x)\n",
    "        logits = self.linear_relu_stack(x)\n",
    "        return logits"
   ]
  },
  {
   "cell_type": "code",
   "execution_count": 4,
   "metadata": {},
   "outputs": [
    {
     "name": "stdout",
     "output_type": "stream",
     "text": [
      "NeuralNetwork(\n",
      "  (flatten): Flatten(start_dim=1, end_dim=-1)\n",
      "  (linear_relu_stack): Sequential(\n",
      "    (0): Linear(in_features=784, out_features=512, bias=True)\n",
      "    (1): ReLU()\n",
      "    (2): Linear(in_features=512, out_features=512, bias=True)\n",
      "    (3): ReLU()\n",
      "    (4): Linear(in_features=512, out_features=10, bias=True)\n",
      "  )\n",
      ")\n"
     ]
    }
   ],
   "source": [
    "# model\n",
    "model = NeuralNetwork().to(device)\n",
    "print(model)"
   ]
  },
  {
   "cell_type": "code",
   "execution_count": 17,
   "metadata": {},
   "outputs": [
    {
     "name": "stdout",
     "output_type": "stream",
     "text": [
      "The predicted class is   tensor([5], device='mps:0')\n"
     ]
    }
   ],
   "source": [
    "# Do not call the models .forwared method directly. Instead use the __call__ method of the class\n",
    "X = torch.rand(1, 28, 28, device=device)\n",
    "logits = model(X)\n",
    "pred_prob = nn.Softmax(dim=1)(logits)\n",
    "pred_y = pred_prob.argmax(1)\n",
    "print(\"The predicted class is  \", pred_y)\n"
   ]
  },
  {
   "cell_type": "code",
   "execution_count": 27,
   "metadata": {},
   "outputs": [
    {
     "name": "stdout",
     "output_type": "stream",
     "text": [
      "torch.Size([3, 1, 28, 28])\n"
     ]
    }
   ],
   "source": [
    "# breaking down the layers step by step\n",
    "input_image = torch.rand(3, 1, 28, 28)\n",
    "print(input_image.size())"
   ]
  },
  {
   "cell_type": "code",
   "execution_count": 28,
   "metadata": {},
   "outputs": [
    {
     "data": {
      "text/plain": [
       "torch.Size([3, 784])"
      ]
     },
     "execution_count": 28,
     "metadata": {},
     "output_type": "execute_result"
    }
   ],
   "source": [
    "flatten = nn.Flatten()\n",
    "flat_image = flatten(input_image)\n",
    "flat_image.size()"
   ]
  },
  {
   "cell_type": "code",
   "execution_count": 29,
   "metadata": {},
   "outputs": [
    {
     "data": {
      "text/plain": [
       "torch.Size([3, 20])"
      ]
     },
     "execution_count": 29,
     "metadata": {},
     "output_type": "execute_result"
    }
   ],
   "source": [
    "layer1 = nn.Linear(in_features=(28*28), out_features=20)\n",
    "hidden1 = layer1(flat_image)\n",
    "hidden1.shape"
   ]
  },
  {
   "cell_type": "code",
   "execution_count": 30,
   "metadata": {},
   "outputs": [
    {
     "name": "stdout",
     "output_type": "stream",
     "text": [
      "Before RelU:  tensor([[-0.2121, -0.2561, -0.7692,  0.3023, -0.3522, -0.0836,  0.3412,  0.2685,\n",
      "          0.3387, -0.3988,  0.5743, -0.1587,  0.5176,  0.5390,  0.0108, -0.4095,\n",
      "          0.0025, -0.2150,  0.0141,  0.1514],\n",
      "        [-0.1956, -0.4107, -0.7580,  0.2530, -0.4634, -0.3247,  0.1492,  0.1567,\n",
      "          0.1700, -0.0902,  0.4843, -0.2355,  0.4493,  0.0800,  0.0553, -0.4699,\n",
      "          0.3234, -0.4109, -0.2444,  0.1806],\n",
      "        [-0.2139, -0.3127, -0.5455,  0.3695, -0.3329, -0.3019,  0.2150,  0.0539,\n",
      "          0.2526, -0.2277,  0.1365, -0.3827,  0.4297,  0.2677, -0.0021, -0.6180,\n",
      "          0.4580,  0.0589, -0.0829,  0.2305]], grad_fn=<AddmmBackward0>)\n",
      "After RelU:  tensor([[0.0000, 0.0000, 0.0000, 0.3023, 0.0000, 0.0000, 0.3412, 0.2685, 0.3387,\n",
      "         0.0000, 0.5743, 0.0000, 0.5176, 0.5390, 0.0108, 0.0000, 0.0025, 0.0000,\n",
      "         0.0141, 0.1514],\n",
      "        [0.0000, 0.0000, 0.0000, 0.2530, 0.0000, 0.0000, 0.1492, 0.1567, 0.1700,\n",
      "         0.0000, 0.4843, 0.0000, 0.4493, 0.0800, 0.0553, 0.0000, 0.3234, 0.0000,\n",
      "         0.0000, 0.1806],\n",
      "        [0.0000, 0.0000, 0.0000, 0.3695, 0.0000, 0.0000, 0.2150, 0.0539, 0.2526,\n",
      "         0.0000, 0.1365, 0.0000, 0.4297, 0.2677, 0.0000, 0.0000, 0.4580, 0.0589,\n",
      "         0.0000, 0.2305]], grad_fn=<ReluBackward0>)\n"
     ]
    }
   ],
   "source": [
    "# now using rectified linear unit as the activation function to apply non linearity\n",
    "print(\"Before RelU: \", hidden1)\n",
    "hidden1 = nn.ReLU()(hidden1)\n",
    "print(\"After RelU: \", hidden1)"
   ]
  },
  {
   "cell_type": "code",
   "execution_count": 31,
   "metadata": {},
   "outputs": [],
   "source": [
    "# nn.Sequential is an ordered container of modules\n",
    "seq_modules = nn.Sequential(\n",
    "    flatten,\n",
    "    layer1,\n",
    "    nn.ReLU(),\n",
    "    nn.Linear(20, 10),\n",
    ")\n",
    "\n",
    "input_image = torch.rand(3, 28, 28)\n",
    "logits = seq_modules(input_image)"
   ]
  },
  {
   "cell_type": "code",
   "execution_count": 32,
   "metadata": {},
   "outputs": [
    {
     "data": {
      "text/plain": [
       "tensor([[ 0.1242, -0.0405, -0.0229,  0.3410, -0.0947, -0.2843, -0.1926, -0.1750,\n",
       "         -0.3280,  0.0821],\n",
       "        [ 0.2915,  0.0212,  0.0240,  0.3364, -0.0176, -0.1982, -0.2266, -0.2328,\n",
       "         -0.2078,  0.0205],\n",
       "        [ 0.1684, -0.0463, -0.0244,  0.3866, -0.1162, -0.2265, -0.1310, -0.1283,\n",
       "         -0.3408,  0.0717]], grad_fn=<AddmmBackward0>)"
      ]
     },
     "execution_count": 32,
     "metadata": {},
     "output_type": "execute_result"
    }
   ],
   "source": [
    "logits"
   ]
  },
  {
   "cell_type": "code",
   "execution_count": 40,
   "metadata": {},
   "outputs": [
    {
     "data": {
      "text/plain": [
       "tensor([0.1206, 0.0973, 0.0994, 0.1500, 0.0907, 0.0812, 0.0894, 0.0896, 0.0725,\n",
       "        0.1094], grad_fn=<SelectBackward0>)"
      ]
     },
     "execution_count": 40,
     "metadata": {},
     "output_type": "execute_result"
    }
   ],
   "source": [
    "# softmax converts or logit output from our sequential model into a probability distribution\n",
    "# the logit values are between 0 and 1 and must all sum to 1\n",
    "softmax = nn.Softmax(dim=1)(logits)\n",
    "softmax[2]"
   ]
  },
  {
   "cell_type": "code",
   "execution_count": 43,
   "metadata": {},
   "outputs": [
    {
     "name": "stdout",
     "output_type": "stream",
     "text": [
      "Model Structure:  NeuralNetwork(\n",
      "  (flatten): Flatten(start_dim=1, end_dim=-1)\n",
      "  (linear_relu_stack): Sequential(\n",
      "    (0): Linear(in_features=784, out_features=512, bias=True)\n",
      "    (1): ReLU()\n",
      "    (2): Linear(in_features=512, out_features=512, bias=True)\n",
      "    (3): ReLU()\n",
      "    (4): Linear(in_features=512, out_features=10, bias=True)\n",
      "  )\n",
      ")\n",
      "Layer:  linear_relu_stack.0.weight  | Size:  torch.Size([512, 784])  | Values:  tensor([[ 0.0184,  0.0117, -0.0349,  ..., -0.0113,  0.0041,  0.0209],\n",
      "        [ 0.0076, -0.0162, -0.0311,  ..., -0.0312,  0.0323, -0.0155]],\n",
      "       device='mps:0', grad_fn=<SliceBackward0>)\n",
      "Layer:  linear_relu_stack.0.bias  | Size:  torch.Size([512])  | Values:  tensor([ 0.0147, -0.0301], device='mps:0', grad_fn=<SliceBackward0>)\n",
      "Layer:  linear_relu_stack.2.weight  | Size:  torch.Size([512, 512])  | Values:  tensor([[ 0.0351, -0.0132, -0.0016,  ...,  0.0056, -0.0032,  0.0082],\n",
      "        [-0.0202, -0.0065,  0.0396,  ..., -0.0412,  0.0006,  0.0392]],\n",
      "       device='mps:0', grad_fn=<SliceBackward0>)\n",
      "Layer:  linear_relu_stack.2.bias  | Size:  torch.Size([512])  | Values:  tensor([-0.0078,  0.0434], device='mps:0', grad_fn=<SliceBackward0>)\n",
      "Layer:  linear_relu_stack.4.weight  | Size:  torch.Size([10, 512])  | Values:  tensor([[ 0.0335,  0.0160, -0.0120,  ..., -0.0362, -0.0194,  0.0040],\n",
      "        [ 0.0202,  0.0434, -0.0404,  ..., -0.0293,  0.0063,  0.0048]],\n",
      "       device='mps:0', grad_fn=<SliceBackward0>)\n",
      "Layer:  linear_relu_stack.4.bias  | Size:  torch.Size([10])  | Values:  tensor([ 0.0109, -0.0205], device='mps:0', grad_fn=<SliceBackward0>)\n"
     ]
    }
   ],
   "source": [
    "print(\"Model Structure: \", model)\n",
    "for name, param in model.named_parameters():\n",
    "    print(\"Layer: \", name, \" | Size: \", param.size(), \" | Values: \", param[:2])"
   ]
  }
 ],
 "metadata": {
  "kernelspec": {
   "display_name": ".venv",
   "language": "python",
   "name": "python3"
  },
  "language_info": {
   "codemirror_mode": {
    "name": "ipython",
    "version": 3
   },
   "file_extension": ".py",
   "mimetype": "text/x-python",
   "name": "python",
   "nbconvert_exporter": "python",
   "pygments_lexer": "ipython3",
   "version": "3.10.10"
  },
  "orig_nbformat": 4
 },
 "nbformat": 4,
 "nbformat_minor": 2
}
