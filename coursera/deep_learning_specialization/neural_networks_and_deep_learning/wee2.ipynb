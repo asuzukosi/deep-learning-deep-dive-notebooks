{
 "cells": [
  {
   "cell_type": "code",
   "execution_count": null,
   "metadata": {},
   "outputs": [],
   "source": [
    "# Binary Classification\n",
    "# No need for training examples with individual instances\n",
    "# We usually batch/parallelize our training examples\n",
    "# In training a neural network, we do a forward pass (forward propagation) followed\n",
    "# by a backward pass (backward propagation)\n",
    "\n",
    "\n",
    "# Logistic regression is used for binary classification\n",
    "# 'm' represents the number of training examples and 'n' represents the dimenstions, therore the matrix of input batches will have have the shape (m, n).\n",
    "# The 'n' value will change as it moves through the neural network adjusting to the size of the number of nuerons in a particular layer. But the 'm' value remains the same \n",
    "# throughout the propagation."
   ]
  },
  {
   "cell_type": "code",
   "execution_count": null,
   "metadata": {},
   "outputs": [],
   "source": [
    "# Logistic regression is used for binary classification problems.\n",
    "# The logistic regression algorithm has two parameters: W and b. Where W is a vector\n",
    "# of size n, and b is a scalar value. "
   ]
  }
 ],
 "metadata": {
  "language_info": {
   "name": "python"
  },
  "orig_nbformat": 4
 },
 "nbformat": 4,
 "nbformat_minor": 2
}
