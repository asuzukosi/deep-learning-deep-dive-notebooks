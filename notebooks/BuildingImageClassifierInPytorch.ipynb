{
 "cells": [
  {
   "cell_type": "code",
   "execution_count": 3,
   "metadata": {},
   "outputs": [],
   "source": [
    "# This is an example of building an image classifier in pytorch\n",
    "# We will be using the CIFAR10 dataset, which has 10 labels [airplane’, ‘automobile’, ‘bird’, ‘cat’, ‘deer’, ‘dog’, ‘frog’, ‘horse’, ‘ship’, 'truck']\n",
    "import matplotlib.pyplot as plt\n",
    "import numpy as np\n",
    "import torch\n",
    "import torchvision\n",
    "from torch import nn \n",
    "import torch.optim as optim\n",
    "import torch.nn.functional as F\n",
    "import torchvision.transforms as transforms"
   ]
  },
  {
   "cell_type": "code",
   "execution_count": 4,
   "metadata": {},
   "outputs": [],
   "source": [
    "# define transformations to be carried out on the input data\n",
    "transformations = transforms.Compose([transforms.ToTensor(), transforms.Normalize((0.5, 0.5, 0.5), (0.5, 0.5, 0.5))])\n"
   ]
  },
  {
   "cell_type": "code",
   "execution_count": 5,
   "metadata": {},
   "outputs": [],
   "source": [
    "# define batch size\n",
    "batch_size = 4\n",
    "\n",
    "# number of workers\n",
    "num_workers = 2"
   ]
  },
  {
   "cell_type": "code",
   "execution_count": 6,
   "metadata": {},
   "outputs": [
    {
     "name": "stdout",
     "output_type": "stream",
     "text": [
      "Files already downloaded and verified\n",
      "Files already downloaded and verified\n"
     ]
    }
   ],
   "source": [
    "# load training data\n",
    "trainset = torchvision.datasets.CIFAR10(root=\"../data/\", train=True,transform=transformations,download=True)\n",
    "trainLoader = torch.utils.data.DataLoader(trainset, batch_size=batch_size, shuffle=True, num_workers=num_workers)\n",
    "\n",
    "testset = torchvision.datasets.CIFAR10(root=\"../data/\", train=False,transform=transformations,download=True)\n",
    "testLoader = torch.utils.data.DataLoader(testset, batch_size=batch_size, shuffle=False, num_workers=num_workers)"
   ]
  },
  {
   "cell_type": "code",
   "execution_count": 5,
   "metadata": {},
   "outputs": [],
   "source": [
    "classes = ['plane', 'car', 'bird', 'cat', 'deer', 'dog', 'frog', 'horse', 'ship', 'truck']\n",
    "def get_label(id: int):\n",
    "    return classes[id]"
   ]
  },
  {
   "cell_type": "code",
   "execution_count": 8,
   "metadata": {},
   "outputs": [
    {
     "data": {
      "text/plain": [
       "[tensor([[[[ 0.4353,  0.4431,  0.5294,  ...,  0.6157,  0.6157,  0.6235],\n",
       "           [ 0.4667,  0.4824,  0.5373,  ...,  0.6157,  0.6235,  0.6235],\n",
       "           [ 0.5216,  0.5529,  0.6000,  ...,  0.6941,  0.6314,  0.6078],\n",
       "           ...,\n",
       "           [-0.5216, -0.5686, -0.6235,  ..., -0.2157, -0.2941, -0.3412],\n",
       "           [-0.1765, -0.2941, -0.3412,  ..., -0.5608, -0.5765, -0.5765],\n",
       "           [-0.5373, -0.5922, -0.5686,  ..., -0.3176, -0.2784, -0.2784]],\n",
       " \n",
       "          [[ 0.5843,  0.5294,  0.5686,  ...,  0.6471,  0.6706,  0.6627],\n",
       "           [ 0.5765,  0.5529,  0.5843,  ...,  0.6549,  0.6706,  0.6627],\n",
       "           [ 0.6000,  0.6157,  0.6471,  ...,  0.7333,  0.6863,  0.6549],\n",
       "           ...,\n",
       "           [-0.5686, -0.6157, -0.6706,  ..., -0.2627, -0.3333, -0.3725],\n",
       "           [-0.2078, -0.3255, -0.3882,  ..., -0.6000, -0.6078, -0.5843],\n",
       "           [-0.5529, -0.6078, -0.5843,  ..., -0.3255, -0.2784, -0.2706]],\n",
       " \n",
       "          [[ 0.6941,  0.6392,  0.6706,  ...,  0.7176,  0.7412,  0.7412],\n",
       "           [ 0.6863,  0.6471,  0.6627,  ...,  0.7098,  0.7333,  0.7176],\n",
       "           [ 0.7020,  0.6941,  0.7098,  ...,  0.7647,  0.7255,  0.6863],\n",
       "           ...,\n",
       "           [-0.6941, -0.7255, -0.7647,  ..., -0.4118, -0.4667, -0.4510],\n",
       "           [-0.3804, -0.4745, -0.5059,  ..., -0.7255, -0.7412, -0.7333],\n",
       "           [-0.7412, -0.7647, -0.7255,  ..., -0.5373, -0.4980, -0.5137]]],\n",
       " \n",
       " \n",
       "         [[[ 0.0039,  0.0118,  0.0196,  ..., -0.1608, -0.5529, -0.6157],\n",
       "           [-0.1137, -0.0588, -0.0275,  ..., -0.0353, -0.5608, -0.6392],\n",
       "           [-0.1373, -0.1059, -0.0588,  ..., -0.0039, -0.0510,  0.0118],\n",
       "           ...,\n",
       "           [-0.3412, -0.2941, -0.2392,  ..., -0.2627, -0.2314, -0.3490],\n",
       "           [-0.2784, -0.2784, -0.2392,  ..., -0.2627, -0.2157, -0.2941],\n",
       "           [-0.3020, -0.2784, -0.2392,  ..., -0.2941, -0.2471, -0.2471]],\n",
       " \n",
       "          [[ 0.1451,  0.1373,  0.1216,  ..., -0.0510, -0.4588, -0.5294],\n",
       "           [ 0.0588,  0.0902,  0.1059,  ...,  0.0667, -0.4667, -0.5529],\n",
       "           [ 0.0275,  0.0353,  0.0667,  ...,  0.1216,  0.0667,  0.1294],\n",
       "           ...,\n",
       "           [-0.2235, -0.1373, -0.0510,  ..., -0.2706, -0.2235, -0.3255],\n",
       "           [-0.1529, -0.1451, -0.0824,  ..., -0.1686, -0.1294, -0.2000],\n",
       "           [-0.1843, -0.1686, -0.1059,  ..., -0.2000, -0.1686, -0.1843]],\n",
       " \n",
       "          [[-0.2471, -0.2235, -0.2235,  ..., -0.3020, -0.6314, -0.6627],\n",
       "           [-0.3098, -0.2549, -0.2157,  ..., -0.1922, -0.6392, -0.6941],\n",
       "           [-0.3020, -0.2784, -0.2235,  ..., -0.2549, -0.2627, -0.1922],\n",
       "           ...,\n",
       "           [-0.5059, -0.4353, -0.3961,  ..., -0.4353, -0.3804, -0.5137],\n",
       "           [-0.4431, -0.4353, -0.4196,  ..., -0.3569, -0.3020, -0.3961],\n",
       "           [-0.4745, -0.4510, -0.4353,  ..., -0.3647, -0.3176, -0.3569]]],\n",
       " \n",
       " \n",
       "         [[[-0.8980, -0.8667, -0.8510,  ..., -0.8039, -0.8118, -0.8196],\n",
       "           [-0.8196, -0.7882, -0.8118,  ..., -0.8039, -0.8196, -0.8196],\n",
       "           [-0.7255, -0.7255, -0.8431,  ..., -0.7804, -0.7961, -0.8196],\n",
       "           ...,\n",
       "           [ 0.4353,  0.4902,  0.4824,  ...,  0.6392,  0.7020,  0.7255],\n",
       "           [ 0.2157,  0.2235,  0.0745,  ...,  0.7961,  0.7569,  0.7333],\n",
       "           [-0.0431, -0.0824, -0.1137,  ...,  0.7255,  0.6549,  0.6706]],\n",
       " \n",
       "          [[-0.6471, -0.6392, -0.6471,  ..., -0.5843, -0.5922, -0.6000],\n",
       "           [-0.6235, -0.6000, -0.6549,  ..., -0.6000, -0.6157, -0.6157],\n",
       "           [-0.5608, -0.5843, -0.7490,  ..., -0.6000, -0.6157, -0.6314],\n",
       "           ...,\n",
       "           [ 0.3412,  0.2941,  0.2000,  ...,  0.5765,  0.6392,  0.6627],\n",
       "           [ 0.0431, -0.0196, -0.2314,  ...,  0.7333,  0.6941,  0.6706],\n",
       "           [-0.2392, -0.3176, -0.3725,  ...,  0.6627,  0.5922,  0.6078]],\n",
       " \n",
       "          [[-0.3333, -0.3333, -0.3804,  ..., -0.2549, -0.2549, -0.2471],\n",
       "           [-0.2235, -0.2549, -0.3961,  ..., -0.3098, -0.3176, -0.3098],\n",
       "           [-0.1373, -0.2392, -0.5059,  ..., -0.2706, -0.2941, -0.3255],\n",
       "           ...,\n",
       "           [ 0.2078,  0.1059, -0.0667,  ...,  0.5529,  0.6157,  0.6392],\n",
       "           [-0.1137, -0.2078, -0.4353,  ...,  0.7098,  0.6784,  0.6471],\n",
       "           [-0.3725, -0.4510, -0.5059,  ...,  0.6314,  0.5608,  0.5765]]],\n",
       " \n",
       " \n",
       "         [[[ 0.7647,  0.7804,  0.7882,  ...,  0.7804,  0.7882,  0.7804],\n",
       "           [ 0.8196,  0.8196,  0.8353,  ...,  0.8353,  0.8353,  0.8275],\n",
       "           [ 0.8431,  0.8431,  0.8588,  ...,  0.8824,  0.8510,  0.8431],\n",
       "           ...,\n",
       "           [ 0.3961,  0.4510,  0.4510,  ...,  0.1294,  0.2392,  0.2784],\n",
       "           [-0.2706, -0.2000, -0.0510,  ...,  0.1529,  0.2078,  0.2078],\n",
       "           [-0.3882, -0.4039, -0.2471,  ...,  0.2157,  0.2078,  0.1765]],\n",
       " \n",
       "          [[ 0.5373,  0.5373,  0.5451,  ...,  0.5765,  0.5686,  0.5059],\n",
       "           [ 0.5843,  0.5686,  0.5922,  ...,  0.6314,  0.6078,  0.5451],\n",
       "           [ 0.5922,  0.5765,  0.5922,  ...,  0.6627,  0.6078,  0.5608],\n",
       "           ...,\n",
       "           [ 0.3490,  0.4039,  0.4118,  ...,  0.0824,  0.1843,  0.2235],\n",
       "           [-0.2863, -0.2157, -0.0588,  ...,  0.1216,  0.1843,  0.1843],\n",
       "           [-0.3882, -0.4039, -0.2549,  ...,  0.2078,  0.2078,  0.1765]],\n",
       " \n",
       "          [[-0.3647, -0.4118, -0.3569,  ..., -0.3176, -0.3412, -0.3961],\n",
       "           [-0.4353, -0.4980, -0.4353,  ..., -0.4588, -0.4510, -0.4824],\n",
       "           [-0.4588, -0.5294, -0.4667,  ..., -0.4980, -0.4980, -0.5137],\n",
       "           ...,\n",
       "           [ 0.1294,  0.1451,  0.2078,  ...,  0.0196,  0.0745,  0.1294],\n",
       "           [-0.5137, -0.4510, -0.2549,  ...,  0.0980,  0.1373,  0.1373],\n",
       "           [-0.6078, -0.6157, -0.4275,  ...,  0.2078,  0.1922,  0.1608]]]]),\n",
       " tensor([7, 4, 5, 1])]"
      ]
     },
     "execution_count": 8,
     "metadata": {},
     "output_type": "execute_result"
    }
   ],
   "source": [
    "data = next(iter(trainLoader))\n",
    "data"
   ]
  },
  {
   "cell_type": "code",
   "execution_count": 9,
   "metadata": {},
   "outputs": [
    {
     "data": {
      "image/png": "[encoded data removed]",
      "text/plain": [
       "<Figure size 640x480 with 1 Axes>"
      ]
     },
     "metadata": {},
     "output_type": "display_data"
    },
    {
     "name": "stdout",
     "output_type": "stream",
     "text": [
      " frog\n",
      " truck\n",
      " car\n",
      " car\n"
     ]
    }
   ],
   "source": [
    "# write function to show images\n",
    "def imshow(image):\n",
    "    image = image/2 + 0.5\n",
    "    nimage =  image.numpy()\n",
    "    plt.imshow(np.transpose(nimage, (1, 2, 0)))\n",
    "    plt.show()\n",
    "    \n",
    "    \n",
    "dataiter = iter(trainLoader)\n",
    "image, label = dataiter.next()\n",
    "\n",
    "\n",
    "imshow(torchvision.utils.make_grid(image))\n",
    "for j in range(batch_size):\n",
    "    print(f\" {get_label(label[j])}\")\n",
    "    "
   ]
  },
  {
   "cell_type": "code",
   "execution_count": 11,
   "metadata": {},
   "outputs": [
    {
     "data": {
      "text/plain": [
       "torch.Size([4, 3, 32, 32])"
      ]
     },
     "execution_count": 11,
     "metadata": {},
     "output_type": "execute_result"
    }
   ],
   "source": [
    "image.shape"
   ]
  },
  {
   "cell_type": "code",
   "execution_count": 13,
   "metadata": {},
   "outputs": [
    {
     "name": "stdout",
     "output_type": "stream",
     "text": [
      "Net(\n",
      "  (conv_1): Conv2d(3, 6, kernel_size=(5, 5), stride=(1, 1))\n",
      "  (pool): MaxPool2d(kernel_size=2, stride=2, padding=0, dilation=1, ceil_mode=False)\n",
      "  (conv_2): Conv2d(6, 16, kernel_size=(5, 5), stride=(1, 1))\n",
      "  (fc1): Linear(in_features=400, out_features=120, bias=True)\n",
      "  (fc2): Linear(in_features=120, out_features=84, bias=True)\n",
      "  (fc3): Linear(in_features=84, out_features=10, bias=True)\n",
      ")\n"
     ]
    }
   ],
   "source": [
    "# Define the neural network\n",
    "\n",
    "class Net(nn.Module):\n",
    "    \n",
    "    def __init__(self):\n",
    "        super(Net, self).__init__()\n",
    "        \n",
    "        # 3 input channels, 6 output channels, 5 * 5 convolution kernels\n",
    "        self.conv_1 = nn.Conv2d(3, 6, 5)\n",
    "        # max pooling over a 2 * 2 window\n",
    "        self.pool = nn.MaxPool2d(2, 2)\n",
    "        self.conv_2 = nn.Conv2d(6, 16, 5)\n",
    "        self.fc1 = nn.Linear(16 * 5 * 5, 120)\n",
    "        self.fc2 = nn.Linear(120, 84)\n",
    "        self.fc3 = nn.Linear(84, 10)\n",
    "        \n",
    "        \n",
    "    def forward(self,X):\n",
    "        x = self.pool(F.relu(self.conv_1(X)))\n",
    "        x = self.pool(F.relu(self.conv_2(x)))\n",
    "        x = x.view(-1, 16 * 5 *5)\n",
    "        x = F.relu(self.fc1(x))\n",
    "        x = F.relu(self.fc2(x))\n",
    "        x = self.fc3(x)\n",
    "        return x\n",
    "        \n",
    "        \n",
    "net = Net()\n",
    "print(net)"
   ]
  },
  {
   "cell_type": "code",
   "execution_count": 15,
   "metadata": {},
   "outputs": [],
   "source": [
    "criterion = nn.CrossEntropyLoss()\n",
    "optimizer = optim.SGD(net.parameters(), lr=0.001, momentum=0.9)"
   ]
  },
  {
   "cell_type": "code",
   "execution_count": 17,
   "metadata": {},
   "outputs": [
    {
     "name": "stdout",
     "output_type": "stream",
     "text": [
      "[1,  2000] loss: 2.242\n",
      "[1,  4000] loss: 1.930\n",
      "[1,  6000] loss: 1.742\n",
      "[1,  8000] loss: 1.600\n",
      "[1, 10000] loss: 1.532\n",
      "[1, 12000] loss: 1.504\n",
      "[2,  2000] loss: 1.433\n",
      "[2,  4000] loss: 1.391\n",
      "[2,  6000] loss: 1.373\n",
      "[2,  8000] loss: 1.351\n",
      "[2, 10000] loss: 1.320\n",
      "[2, 12000] loss: 1.280\n",
      "Finished training\n"
     ]
    }
   ],
   "source": [
    "for epoch in range(2):\n",
    "    running_loss =  0.0\n",
    "    \n",
    "    for i, data in enumerate(trainLoader, 0):\n",
    "        input, labels = data\n",
    "        optimizer.zero_grad()\n",
    "        output = net(input)\n",
    "        loss  = criterion(output, labels)\n",
    "        loss.backward()\n",
    "        optimizer.step()\n",
    "        \n",
    "        running_loss += loss.item()\n",
    "        \n",
    "        if i%2000 == 1999:\n",
    "            print('[%d, %5d] loss: %.3f' %\n",
    "                  (epoch + 1, i + 1, running_loss / 2000))\n",
    "            running_loss = 0.0\n",
    "            \n",
    "            \n",
    "print(\"Finished training\")"
   ]
  },
  {
   "cell_type": "code",
   "execution_count": 18,
   "metadata": {},
   "outputs": [
    {
     "data": {
      "text/plain": [
       "<All keys matched successfully>"
      ]
     },
     "execution_count": 18,
     "metadata": {},
     "output_type": "execute_result"
    }
   ],
   "source": [
    "# save our neural network\n",
    "PATH = \"./cipar_net.pth\"\n",
    "torch.save(net.state_dict(), PATH)\n",
    "\n",
    "net = Net()\n",
    "net.load_state_dict(torch.load(PATH))"
   ]
  },
  {
   "cell_type": "code",
   "execution_count": 19,
   "metadata": {},
   "outputs": [
    {
     "data": {
      "image/png": "[encoded data removed]",
      "text/plain": [
       "<Figure size 640x480 with 1 Axes>"
      ]
     },
     "metadata": {},
     "output_type": "display_data"
    },
    {
     "name": "stdout",
     "output_type": "stream",
     "text": [
      "GroundTruth:  cat ship ship plane\n"
     ]
    }
   ],
   "source": [
    "dataiter = iter(testLoader)\n",
    "images, labels = dataiter.next()\n",
    "\n",
    "# print images\n",
    "imshow(torchvision.utils.make_grid(images))\n",
    "print('GroundTruth: ', ' '.join('%s' % classes[labels[j]] for j in range(4)))"
   ]
  },
  {
   "cell_type": "code",
   "execution_count": 20,
   "metadata": {},
   "outputs": [
    {
     "name": "stdout",
     "output_type": "stream",
     "text": [
      "GroundTruth:  cat ship car ship\n"
     ]
    }
   ],
   "source": [
    "output = net(images)\n",
    "_, predicted = torch.max(output, 1)\n",
    "print('GroundTruth: ', ' '.join('%s' % classes[predicted[j]] for j in range(4)))"
   ]
  },
  {
   "cell_type": "code",
   "execution_count": 21,
   "metadata": {},
   "outputs": [
    {
     "name": "stdout",
     "output_type": "stream",
     "text": [
      "Accuracy of the network on the 10000 test images: 52 %\n"
     ]
    }
   ],
   "source": [
    "correct = 0\n",
    "total = 0\n",
    "with torch.no_grad():\n",
    "    for data in testLoader:\n",
    "        images, labels = data\n",
    "        outputs = net(images)\n",
    "        _, predicted = torch.max(outputs.data, 1)\n",
    "        total += labels.size(0)\n",
    "        correct += (predicted == labels).sum().item()\n",
    "\n",
    "print('Accuracy of the network on the 10000 test images: %d %%' % (\n",
    "    100 * correct / total))"
   ]
  },
  {
   "cell_type": "code",
   "execution_count": null,
   "metadata": {},
   "outputs": [],
   "source": []
  }
 ],
 "metadata": {
  "kernelspec": {
   "display_name": ".venv",
   "language": "python",
   "name": "python3"
  },
  "language_info": {
   "codemirror_mode": {
    "name": "ipython",
    "version": 3
   },
   "file_extension": ".py",
   "mimetype": "text/x-python",
   "name": "python",
   "nbconvert_exporter": "python",
   "pygments_lexer": "ipython3",
   "version": "3.10.9"
  },
  "orig_nbformat": 4
 },
 "nbformat": 4,
 "nbformat_minor": 2
}
