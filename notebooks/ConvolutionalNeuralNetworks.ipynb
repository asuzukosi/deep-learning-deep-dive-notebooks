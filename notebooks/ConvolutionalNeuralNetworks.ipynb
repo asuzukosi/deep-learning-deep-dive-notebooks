{
 "cells": [
  {
   "attachments": {},
   "cell_type": "markdown",
   "metadata": {},
   "source": [
    "# Convolutional Neural Networks\n",
    "Convolutional neural networks are a form of neural network architecture that allow us to keep track of spatial relationship between individual input features. This is particularly useful for images, because to be able to make inference on images you would need to have information of the surrounding pixels on a particular image pixel to be able to identify what the pixel represents. This has made ConvNets the defacto architecture for convolutional neural networks. "
   ]
  },
  {
   "attachments": {},
   "cell_type": "markdown",
   "metadata": {},
   "source": [
    "### Connected Layers to Convolutions\n",
    "The journey from fully connected layers to convolutions and why they are important"
   ]
  },
  {
   "cell_type": "code",
   "execution_count": null,
   "metadata": {
    "vscode": {
     "languageId": "plaintext"
    }
   },
   "outputs": [],
   "source": []
  }
 ],
 "metadata": {
  "language_info": {
   "name": "python"
  },
  "orig_nbformat": 4
 },
 "nbformat": 4,
 "nbformat_minor": 2
}
