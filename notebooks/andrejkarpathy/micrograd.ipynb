{
 "cells": [
  {
   "cell_type": "code",
   "execution_count": 173,
   "metadata": {},
   "outputs": [],
   "source": [
    "# implementing micro grad for training neural networks\n",
    "import math\n",
    "import numpy as np\n",
    "import matplotlib.pyplot as plt"
   ]
  },
  {
   "cell_type": "code",
   "execution_count": 174,
   "metadata": {},
   "outputs": [],
   "source": [
    "def f(x):\n",
    "    return 3*(x**2) - 4*(x) + 5"
   ]
  },
  {
   "cell_type": "code",
   "execution_count": 175,
   "metadata": {},
   "outputs": [
    {
     "data": {
      "text/plain": [
       "20.0"
      ]
     },
     "execution_count": 175,
     "metadata": {},
     "output_type": "execute_result"
    }
   ],
   "source": [
    "f(3.0)"
   ]
  },
  {
   "cell_type": "code",
   "execution_count": 176,
   "metadata": {},
   "outputs": [],
   "source": [
    "xs = np.arange(-5, 5, .25)\n",
    "xs\n",
    "ys = f(xs)"
   ]
  },
  {
   "cell_type": "code",
   "execution_count": 177,
   "metadata": {},
   "outputs": [
    {
     "data": {
      "text/plain": [
       "array([100.    ,  91.6875,  83.75  ,  76.1875,  69.    ,  62.1875,\n",
       "        55.75  ,  49.6875,  44.    ,  38.6875,  33.75  ,  29.1875,\n",
       "        25.    ,  21.1875,  17.75  ,  14.6875,  12.    ,   9.6875,\n",
       "         7.75  ,   6.1875,   5.    ,   4.1875,   3.75  ,   3.6875,\n",
       "         4.    ,   4.6875,   5.75  ,   7.1875,   9.    ,  11.1875,\n",
       "        13.75  ,  16.6875,  20.    ,  23.6875,  27.75  ,  32.1875,\n",
       "        37.    ,  42.1875,  47.75  ,  53.6875])"
      ]
     },
     "execution_count": 177,
     "metadata": {},
     "output_type": "execute_result"
    }
   ],
   "source": [
    "ys"
   ]
  },
  {
   "cell_type": "code",
   "execution_count": 178,
   "metadata": {},
   "outputs": [
    {
     "data": {
      "text/plain": [
       "[<matplotlib.lines.Line2D at 0x119d81f90>]"
      ]
     },
     "execution_count": 178,
     "metadata": {},
     "output_type": "execute_result"
    },
    {
     "data": {
      "image/png": "[encoded data removed]",
      "text/plain": [
       "<Figure size 640x480 with 1 Axes>"
      ]
     },
     "metadata": {},
     "output_type": "display_data"
    }
   ],
   "source": [
    "plt.plot(xs, ys)"
   ]
  },
  {
   "cell_type": "code",
   "execution_count": 179,
   "metadata": {},
   "outputs": [
    {
     "data": {
      "text/plain": [
       "3.666666666666667"
      ]
     },
     "execution_count": 179,
     "metadata": {},
     "output_type": "execute_result"
    }
   ],
   "source": [
    "h = 0.0000000000001\n",
    "x = 2/3\n",
    "f(x)"
   ]
  },
  {
   "cell_type": "code",
   "execution_count": 180,
   "metadata": {},
   "outputs": [
    {
     "data": {
      "text/plain": [
       "-0.004440892098500626"
      ]
     },
     "execution_count": 180,
     "metadata": {},
     "output_type": "execute_result"
    }
   ],
   "source": [
    "(f(x+h) - f(x)) / h"
   ]
  },
  {
   "cell_type": "code",
   "execution_count": 181,
   "metadata": {},
   "outputs": [
    {
     "name": "stdout",
     "output_type": "stream",
     "text": [
      "4.0\n"
     ]
    }
   ],
   "source": [
    "# more complex example\n",
    "a = 2.0\n",
    "b = -3.0\n",
    "c = 10.0\n",
    "\n",
    "d = a*b + c\n",
    "print(d)"
   ]
  },
  {
   "cell_type": "code",
   "execution_count": 182,
   "metadata": {},
   "outputs": [],
   "source": [
    "def d(a, b, c):\n",
    "    return a*b + c"
   ]
  },
  {
   "cell_type": "code",
   "execution_count": 183,
   "metadata": {},
   "outputs": [
    {
     "data": {
      "text/plain": [
       "4.0"
      ]
     },
     "execution_count": 183,
     "metadata": {},
     "output_type": "execute_result"
    }
   ],
   "source": [
    "d(a, b, c)"
   ]
  },
  {
   "cell_type": "code",
   "execution_count": 184,
   "metadata": {},
   "outputs": [
    {
     "data": {
      "text/plain": [
       "0.9999999999976694"
      ]
     },
     "execution_count": 184,
     "metadata": {},
     "output_type": "execute_result"
    }
   ],
   "source": [
    "h = 0.0001\n",
    "(d(a, b, c+h) - d(a, b, c))/h"
   ]
  },
  {
   "cell_type": "code",
   "execution_count": 185,
   "metadata": {},
   "outputs": [],
   "source": [
    "def z(a, b, c):\n",
    "    return a - b - c"
   ]
  },
  {
   "cell_type": "code",
   "execution_count": 186,
   "metadata": {},
   "outputs": [
    {
     "data": {
      "text/plain": [
       "-12"
      ]
     },
     "execution_count": 186,
     "metadata": {},
     "output_type": "execute_result"
    }
   ],
   "source": [
    "z(10,-12, 34)"
   ]
  },
  {
   "cell_type": "code",
   "execution_count": 187,
   "metadata": {},
   "outputs": [
    {
     "name": "stdout",
     "output_type": "stream",
     "text": [
      "The new result is  -11.999999000000003\n",
      "The derivative is :  0.9999999974752427\n",
      "The old value is  10  and the new value is 10.099999999747524\n",
      "The new result is  -12.000000999999997\n",
      "The derivative is :  -0.9999999974752427\n",
      "The old value is  -12  and the new value is -12.099999999747524\n",
      "The new result is  -12.000000999999997\n",
      "The derivative is :  -0.9999999974752427\n",
      "The old value is  34  and the new value is 33.900000000252476\n",
      "The updated values are  [10.099999999747524, -12.099999999747524, 33.900000000252476]\n",
      "The new value of z is  -11.700000000757427\n",
      "The new result is  -11.69999900075743\n",
      "The derivative is :  0.9999999974752427\n",
      "The old value is  10.099999999747524  and the new value is 10.199999999495049\n",
      "The new result is  -11.700001000757425\n",
      "The derivative is :  -0.9999999974752427\n",
      "The old value is  -12.099999999747524  and the new value is -12.199999999495049\n",
      "The new result is  -11.700001000757425\n",
      "The derivative is :  -0.9999999974752427\n",
      "The old value is  33.900000000252476  and the new value is 33.80000000050495\n",
      "The updated values are  [10.199999999495049, -12.199999999495049, 33.80000000050495]\n",
      "The new value of z is  -11.400000001514854\n",
      "The new result is  -11.399999001514857\n",
      "The derivative is :  0.9999999974752427\n",
      "The old value is  10.199999999495049  and the new value is 10.299999999242573\n",
      "The new result is  -11.400001001514852\n",
      "The derivative is :  -0.9999999974752427\n",
      "The old value is  -12.199999999495049  and the new value is -12.299999999242573\n",
      "The new result is  -11.400001001514852\n",
      "The derivative is :  -0.9999999974752427\n",
      "The old value is  33.80000000050495  and the new value is 33.70000000075743\n",
      "The updated values are  [10.299999999242573, -12.299999999242573, 33.70000000075743]\n",
      "The new value of z is  -11.100000002272282\n",
      "The new result is  -11.099999002272284\n",
      "The derivative is :  0.9999999974752427\n",
      "The old value is  10.299999999242573  and the new value is 10.399999998990097\n",
      "The new result is  -11.100001002272279\n",
      "The derivative is :  -0.9999999974752427\n",
      "The old value is  -12.299999999242573  and the new value is -12.399999998990097\n",
      "The new result is  -11.100001002272279\n",
      "The derivative is :  -0.9999999974752427\n",
      "The old value is  33.70000000075743  and the new value is 33.6000000010099\n",
      "The updated values are  [10.399999998990097, -12.399999998990097, 33.6000000010099]\n",
      "The new value of z is  -10.800000003029709\n",
      "The new result is  -10.799999003029711\n",
      "The derivative is :  0.9999999974752427\n",
      "The old value is  10.399999998990097  and the new value is 10.499999998737621\n",
      "The new result is  -10.800001003029706\n",
      "The derivative is :  -0.9999999974752427\n",
      "The old value is  -12.399999998990097  and the new value is -12.499999998737621\n",
      "The new result is  -10.800001003029706\n",
      "The derivative is :  -0.9999999974752427\n",
      "The old value is  33.6000000010099  and the new value is 33.50000000126238\n",
      "The updated values are  [10.499999998737621, -12.499999998737621, 33.50000000126238]\n",
      "The new value of z is  -10.500000003787136\n",
      "The new result is  -10.499999003787138\n",
      "The derivative is :  0.9999999974752427\n",
      "The old value is  10.499999998737621  and the new value is 10.599999998485146\n",
      "The new result is  -10.500001003787133\n",
      "The derivative is :  -0.9999999974752427\n",
      "The old value is  -12.499999998737621  and the new value is -12.599999998485146\n",
      "The new result is  -10.500001003787133\n",
      "The derivative is :  -0.9999999974752427\n",
      "The old value is  33.50000000126238  and the new value is 33.400000001514854\n",
      "The updated values are  [10.599999998485146, -12.599999998485146, 33.400000001514854]\n",
      "The new value of z is  -10.200000004544563\n",
      "The new result is  -10.199999004544566\n",
      "The derivative is :  0.9999999974752427\n",
      "The old value is  10.599999998485146  and the new value is 10.69999999823267\n",
      "The new result is  -10.20000100454456\n",
      "The derivative is :  -0.9999999974752427\n",
      "The old value is  -12.599999998485146  and the new value is -12.69999999823267\n",
      "The new result is  -10.20000100454456\n",
      "The derivative is :  -0.9999999974752427\n",
      "The old value is  33.400000001514854  and the new value is 33.30000000176733\n",
      "The updated values are  [10.69999999823267, -12.69999999823267, 33.30000000176733]\n",
      "The new value of z is  -9.90000000530199\n",
      "The new result is  -9.899999005301993\n",
      "The derivative is :  0.9999999974752427\n",
      "The old value is  10.69999999823267  and the new value is 10.799999997980194\n",
      "The new result is  -9.900001005301988\n",
      "The derivative is :  -0.9999999974752427\n",
      "The old value is  -12.69999999823267  and the new value is -12.799999997980194\n",
      "The new result is  -9.900001005301988\n",
      "The derivative is :  -0.9999999974752427\n",
      "The old value is  33.30000000176733  and the new value is 33.200000002019806\n",
      "The updated values are  [10.799999997980194, -12.799999997980194, 33.200000002019806]\n",
      "The new value of z is  -9.600000006059418\n",
      "The new result is  -9.59999900605942\n",
      "The derivative is :  0.9999999974752427\n",
      "The old value is  10.799999997980194  and the new value is 10.899999997727718\n",
      "The new result is  -9.600001006059415\n",
      "The derivative is :  -0.9999999974752427\n",
      "The old value is  -12.799999997980194  and the new value is -12.899999997727718\n",
      "The new result is  -9.600001006059415\n",
      "The derivative is :  -0.9999999974752427\n",
      "The old value is  33.200000002019806  and the new value is 33.10000000227228\n",
      "The updated values are  [10.899999997727718, -12.899999997727718, 33.10000000227228]\n",
      "The new value of z is  -9.300000006816845\n",
      "The new result is  -9.299999006816847\n",
      "The derivative is :  0.9999999974752427\n",
      "The old value is  10.899999997727718  and the new value is 10.999999997475243\n",
      "The new result is  -9.300001006816842\n",
      "The derivative is :  -0.9999999974752427\n",
      "The old value is  -12.899999997727718  and the new value is -12.999999997475243\n",
      "The new result is  -9.300001006816842\n",
      "The derivative is :  -0.9999999974752427\n",
      "The old value is  33.10000000227228  and the new value is 33.00000000252476\n",
      "The updated values are  [10.999999997475243, -12.999999997475243, 33.00000000252476]\n",
      "The new value of z is  -9.000000007574272\n",
      "The new result is  -8.999999007574274\n",
      "The derivative is :  0.9999999974752427\n",
      "The old value is  10.999999997475243  and the new value is 11.099999997222767\n",
      "The new result is  -9.00000100757427\n",
      "The derivative is :  -0.9999999974752427\n",
      "The old value is  -12.999999997475243  and the new value is -13.099999997222767\n",
      "The new result is  -9.00000100757427\n",
      "The derivative is :  -0.9999999974752427\n",
      "The old value is  33.00000000252476  and the new value is 32.90000000277723\n",
      "The updated values are  [11.099999997222767, -13.099999997222767, 32.90000000277723]\n",
      "The new value of z is  -8.700000008331699\n",
      "The new result is  -8.699999008331702\n",
      "The derivative is :  0.9999999974752427\n",
      "The old value is  11.099999997222767  and the new value is 11.199999996970291\n",
      "The new result is  -8.700001008331697\n",
      "The derivative is :  -0.9999999974752427\n",
      "The old value is  -13.099999997222767  and the new value is -13.199999996970291\n",
      "The new result is  -8.700001008331697\n",
      "The derivative is :  -0.9999999974752427\n",
      "The old value is  32.90000000277723  and the new value is 32.80000000302971\n",
      "The updated values are  [11.199999996970291, -13.199999996970291, 32.80000000302971]\n",
      "The new value of z is  -8.400000009089126\n",
      "The new result is  -8.399999009089129\n",
      "The derivative is :  0.9999999974752427\n",
      "The old value is  11.199999996970291  and the new value is 11.299999996717816\n",
      "The new result is  -8.400001009089124\n",
      "The derivative is :  -0.9999999974752427\n",
      "The old value is  -13.199999996970291  and the new value is -13.299999996717816\n",
      "The new result is  -8.400001009089124\n",
      "The derivative is :  -0.9999999974752427\n",
      "The old value is  32.80000000302971  and the new value is 32.700000003282184\n",
      "The updated values are  [11.299999996717816, -13.299999996717816, 32.700000003282184]\n",
      "The new value of z is  -8.100000009846553\n",
      "The new result is  -8.099999009846556\n",
      "The derivative is :  0.9999999974752427\n",
      "The old value is  11.299999996717816  and the new value is 11.39999999646534\n",
      "The new result is  -8.100001009846551\n",
      "The derivative is :  -0.9999999974752427\n",
      "The old value is  -13.299999996717816  and the new value is -13.39999999646534\n",
      "The new result is  -8.100001009846551\n",
      "The derivative is :  -0.9999999974752427\n",
      "The old value is  32.700000003282184  and the new value is 32.60000000353466\n",
      "The updated values are  [11.39999999646534, -13.39999999646534, 32.60000000353466]\n",
      "The new value of z is  -7.800000010603981\n",
      "The new result is  -7.799999010603983\n",
      "The derivative is :  0.9999999974752427\n",
      "The old value is  11.39999999646534  and the new value is 11.499999996212864\n",
      "The new result is  -7.800001010603978\n",
      "The derivative is :  -0.9999999974752427\n",
      "The old value is  -13.39999999646534  and the new value is -13.499999996212864\n",
      "The new result is  -7.800001010603978\n",
      "The derivative is :  -0.9999999974752427\n",
      "The old value is  32.60000000353466  and the new value is 32.500000003787136\n",
      "The updated values are  [11.499999996212864, -13.499999996212864, 32.500000003787136]\n",
      "The new value of z is  -7.500000011361408\n",
      "The new result is  -7.49999901136141\n",
      "The derivative is :  0.9999999974752427\n",
      "The old value is  11.499999996212864  and the new value is 11.599999995960388\n",
      "The new result is  -7.500001011361405\n",
      "The derivative is :  -0.9999999974752427\n",
      "The old value is  -13.499999996212864  and the new value is -13.599999995960388\n",
      "The new result is  -7.500001011361405\n",
      "The derivative is :  -0.9999999974752427\n",
      "The old value is  32.500000003787136  and the new value is 32.40000000403961\n",
      "The updated values are  [11.599999995960388, -13.599999995960388, 32.40000000403961]\n",
      "The new value of z is  -7.200000012118835\n",
      "The new result is  -7.1999990121188375\n",
      "The derivative is :  0.9999999974752427\n",
      "The old value is  11.599999995960388  and the new value is 11.699999995707913\n",
      "The new result is  -7.2000010121188325\n",
      "The derivative is :  -0.9999999974752427\n",
      "The old value is  -13.599999995960388  and the new value is -13.699999995707913\n",
      "The new result is  -7.2000010121188325\n",
      "The derivative is :  -0.9999999974752427\n",
      "The old value is  32.40000000403961  and the new value is 32.30000000429209\n",
      "The updated values are  [11.699999995707913, -13.699999995707913, 32.30000000429209]\n",
      "The new value of z is  -6.900000012876262\n",
      "The new result is  -6.899999012876265\n",
      "The derivative is :  0.9999999974752427\n",
      "The old value is  11.699999995707913  and the new value is 11.799999995455437\n",
      "The new result is  -6.90000101287626\n",
      "The derivative is :  -0.9999999974752427\n",
      "The old value is  -13.699999995707913  and the new value is -13.799999995455437\n",
      "The new result is  -6.90000101287626\n",
      "The derivative is :  -0.9999999974752427\n",
      "The old value is  32.30000000429209  and the new value is 32.20000000454456\n",
      "The updated values are  [11.799999995455437, -13.799999995455437, 32.20000000454456]\n",
      "The new value of z is  -6.600000013633689\n",
      "The new result is  -6.599999013633692\n",
      "The derivative is :  0.9999999974752427\n",
      "The old value is  11.799999995455437  and the new value is 11.899999995202961\n",
      "The new result is  -6.600001013633687\n",
      "The derivative is :  -0.9999999974752427\n",
      "The old value is  -13.799999995455437  and the new value is -13.899999995202961\n",
      "The new result is  -6.600001013633687\n",
      "The derivative is :  -0.9999999974752427\n",
      "The old value is  32.20000000454456  and the new value is 32.10000000479704\n",
      "The updated values are  [11.899999995202961, -13.899999995202961, 32.10000000479704]\n",
      "The new value of z is  -6.300000014391117\n",
      "The new result is  -6.299999014391119\n",
      "The derivative is :  0.9999999974752427\n",
      "The old value is  11.899999995202961  and the new value is 11.999999994950485\n",
      "The new result is  -6.300001014391114\n",
      "The derivative is :  -0.9999999974752427\n",
      "The old value is  -13.899999995202961  and the new value is -13.999999994950485\n",
      "The new result is  -6.300001014391114\n",
      "The derivative is :  -0.9999999974752427\n",
      "The old value is  32.10000000479704  and the new value is 32.000000005049515\n",
      "The updated values are  [11.999999994950485, -13.999999994950485, 32.000000005049515]\n",
      "The new value of z is  -6.000000015148544\n",
      "The new result is  -5.999999015148546\n",
      "The derivative is :  0.9999999974752427\n",
      "The old value is  11.999999994950485  and the new value is 12.09999999469801\n",
      "The new result is  -6.000001015148541\n",
      "The derivative is :  -0.9999999974752427\n",
      "The old value is  -13.999999994950485  and the new value is -14.09999999469801\n",
      "The new result is  -6.000001015148541\n",
      "The derivative is :  -0.9999999974752427\n",
      "The old value is  32.000000005049515  and the new value is 31.90000000530199\n",
      "The updated values are  [12.09999999469801, -14.09999999469801, 31.90000000530199]\n",
      "The new value of z is  -5.700000015905971\n",
      "The new result is  -5.6999990159059735\n",
      "The derivative is :  0.9999999974752427\n",
      "The old value is  12.09999999469801  and the new value is 12.199999994445534\n",
      "The new result is  -5.700001015905968\n",
      "The derivative is :  -0.9999999974752427\n",
      "The old value is  -14.09999999469801  and the new value is -14.199999994445534\n",
      "The new result is  -5.700001015905972\n",
      "The derivative is :  -1.0000000010279564\n",
      "The old value is  31.90000000530199  and the new value is 31.800000005199195\n",
      "The updated values are  [12.199999994445534, -14.199999994445534, 31.800000005199195]\n",
      "The new value of z is  -5.400000016308127\n",
      "The new result is  -5.399999016308129\n",
      "The derivative is :  0.9999999974752427\n",
      "The old value is  12.199999994445534  and the new value is 12.299999994193058\n",
      "The new result is  -5.400001016308124\n",
      "The derivative is :  -0.9999999974752427\n",
      "The old value is  -14.199999994445534  and the new value is -14.299999994193058\n",
      "The new result is  -5.400001016308128\n",
      "The derivative is :  -1.0000000010279564\n",
      "The old value is  31.800000005199195  and the new value is 31.7000000050964\n",
      "The updated values are  [12.299999994193058, -14.299999994193058, 31.7000000050964]\n",
      "The new value of z is  -5.100000016710283\n",
      "The new result is  -5.099999016710285\n",
      "The derivative is :  0.9999999974752427\n",
      "The old value is  12.299999994193058  and the new value is 12.399999993940582\n",
      "The new result is  -5.10000101671028\n",
      "The derivative is :  -0.9999999974752427\n",
      "The old value is  -14.299999994193058  and the new value is -14.399999993940582\n",
      "The new result is  -5.100001016710284\n",
      "The derivative is :  -1.0000000010279564\n",
      "The old value is  31.7000000050964  and the new value is 31.600000004993603\n",
      "The updated values are  [12.399999993940582, -14.399999993940582, 31.600000004993603]\n",
      "The new value of z is  -4.800000017112438\n",
      "The new result is  -4.799999017112441\n",
      "The derivative is :  0.9999999974752427\n",
      "The old value is  12.399999993940582  and the new value is 12.499999993688107\n",
      "The new result is  -4.800001017112436\n",
      "The derivative is :  -0.9999999974752427\n",
      "The old value is  -14.399999993940582  and the new value is -14.499999993688107\n",
      "The new result is  -4.800001017112439\n",
      "The derivative is :  -1.0000000010279564\n",
      "The old value is  31.600000004993603  and the new value is 31.500000004890808\n",
      "The updated values are  [12.499999993688107, -14.499999993688107, 31.500000004890808]\n",
      "The new value of z is  -4.500000017514594\n",
      "The new result is  -4.499999017514597\n",
      "The derivative is :  0.9999999974752427\n",
      "The old value is  12.499999993688107  and the new value is 12.599999993435631\n",
      "The new result is  -4.500001017514592\n",
      "The derivative is :  -0.9999999974752427\n",
      "The old value is  -14.499999993688107  and the new value is -14.599999993435631\n",
      "The new result is  -4.500001017514595\n",
      "The derivative is :  -1.0000000010279564\n",
      "The old value is  31.500000004890808  and the new value is 31.400000004788012\n",
      "The updated values are  [12.599999993435631, -14.599999993435631, 31.400000004788012]\n",
      "The new value of z is  -4.20000001791675\n",
      "The new result is  -4.199999017916753\n",
      "The derivative is :  0.9999999974752427\n",
      "The old value is  12.599999993435631  and the new value is 12.699999993183155\n",
      "The new result is  -4.2000010179167475\n",
      "The derivative is :  -0.9999999974752427\n",
      "The old value is  -14.599999993435631  and the new value is -14.699999993183155\n",
      "The new result is  -4.200001017916751\n",
      "The derivative is :  -1.0000000010279564\n",
      "The old value is  31.400000004788012  and the new value is 31.300000004685216\n",
      "The updated values are  [12.699999993183155, -14.699999993183155, 31.300000004685216]\n",
      "The new value of z is  -3.900000018318906\n",
      "The new result is  -3.8999990183189084\n",
      "The derivative is :  0.9999999974752427\n",
      "The old value is  12.699999993183155  and the new value is 12.79999999293068\n",
      "The new result is  -3.9000010183189033\n",
      "The derivative is :  -0.9999999974752427\n",
      "The old value is  -14.699999993183155  and the new value is -14.79999999293068\n",
      "The new result is  -3.900001018318907\n",
      "The derivative is :  -1.0000000010279564\n",
      "The old value is  31.300000004685216  and the new value is 31.20000000458242\n",
      "The updated values are  [12.79999999293068, -14.79999999293068, 31.20000000458242]\n",
      "The new value of z is  -3.6000000187210617\n",
      "The new result is  -3.599999018721064\n",
      "The derivative is :  0.9999999974752427\n",
      "The old value is  12.79999999293068  and the new value is 12.899999992678204\n",
      "The new result is  -3.600001018721059\n",
      "The derivative is :  -0.9999999974752427\n",
      "The old value is  -14.79999999293068  and the new value is -14.899999992678204\n",
      "The new result is  -3.6000010187210627\n",
      "The derivative is :  -1.0000000010279564\n",
      "The old value is  31.20000000458242  and the new value is 31.100000004479625\n",
      "The updated values are  [12.899999992678204, -14.899999992678204, 31.100000004479625]\n",
      "The new value of z is  -3.3000000191232175\n",
      "The new result is  -3.29999901912322\n",
      "The derivative is :  0.9999999974752427\n",
      "The old value is  12.899999992678204  and the new value is 12.999999992425728\n",
      "The new result is  -3.300001019123215\n",
      "The derivative is :  -0.9999999974752427\n",
      "The old value is  -14.899999992678204  and the new value is -14.999999992425728\n",
      "The new result is  -3.3000010191232185\n",
      "The derivative is :  -1.0000000010279564\n",
      "The old value is  31.100000004479625  and the new value is 31.00000000437683\n",
      "The updated values are  [12.999999992425728, -14.999999992425728, 31.00000000437683]\n",
      "The new value of z is  -3.0000000195253733\n",
      "The new result is  -2.999999019525376\n",
      "The derivative is :  0.9999999974752427\n",
      "The old value is  12.999999992425728  and the new value is 13.099999992173252\n",
      "The new result is  -3.000001019525371\n",
      "The derivative is :  -0.9999999974752427\n",
      "The old value is  -14.999999992425728  and the new value is -15.099999992173252\n",
      "The new result is  -3.0000010195253743\n",
      "The derivative is :  -1.0000000010279564\n",
      "The old value is  31.00000000437683  and the new value is 30.900000004274034\n",
      "The updated values are  [13.099999992173252, -15.099999992173252, 30.900000004274034]\n",
      "The new value of z is  -2.700000019927529\n",
      "The new result is  -2.6999990199275317\n",
      "The derivative is :  0.9999999974752427\n",
      "The old value is  13.099999992173252  and the new value is 13.199999991920777\n",
      "The new result is  -2.7000010199275266\n",
      "The derivative is :  -0.9999999974752427\n",
      "The old value is  -15.099999992173252  and the new value is -15.199999991920777\n",
      "The new result is  -2.70000101992753\n",
      "The derivative is :  -1.0000000010279564\n",
      "The old value is  30.900000004274034  and the new value is 30.80000000417124\n",
      "The updated values are  [13.199999991920777, -15.199999991920777, 30.80000000417124]\n",
      "The new value of z is  -2.400000020329685\n",
      "The new result is  -2.3999990203296875\n",
      "The derivative is :  0.9999999974752427\n",
      "The old value is  13.199999991920777  and the new value is 13.299999991668301\n",
      "The new result is  -2.4000010203296824\n",
      "The derivative is :  -0.9999999974752427\n",
      "The old value is  -15.199999991920777  and the new value is -15.299999991668301\n",
      "The new result is  -2.400001020329686\n",
      "The derivative is :  -1.0000000010279564\n",
      "The old value is  30.80000000417124  and the new value is 30.700000004068443\n",
      "The updated values are  [13.299999991668301, -15.299999991668301, 30.700000004068443]\n",
      "The new value of z is  -2.1000000207318408\n",
      "The new result is  -2.0999990207318433\n",
      "The derivative is :  0.9999999974752427\n",
      "The old value is  13.299999991668301  and the new value is 13.399999991415825\n",
      "The new result is  -2.1000010207318383\n",
      "The derivative is :  -0.9999999974752427\n",
      "The old value is  -15.299999991668301  and the new value is -15.399999991415825\n",
      "The new result is  -2.100001020731842\n",
      "The derivative is :  -1.0000000010279564\n",
      "The old value is  30.700000004068443  and the new value is 30.600000003965647\n",
      "The updated values are  [13.399999991415825, -15.399999991415825, 30.600000003965647]\n",
      "The new value of z is  -1.8000000211339966\n",
      "The new result is  -1.7999990211339991\n",
      "The derivative is :  0.9999999974752427\n",
      "The old value is  13.399999991415825  and the new value is 13.49999999116335\n",
      "The new result is  -1.800001021133994\n",
      "The derivative is :  -0.9999999974752427\n",
      "The old value is  -15.399999991415825  and the new value is -15.49999999116335\n",
      "The new result is  -1.8000010211339976\n",
      "The derivative is :  -1.0000000010279564\n",
      "The old value is  30.600000003965647  and the new value is 30.50000000386285\n",
      "The updated values are  [13.49999999116335, -15.49999999116335, 30.50000000386285]\n",
      "The new value of z is  -1.5000000215361524\n",
      "The new result is  -1.499999021536155\n",
      "The derivative is :  0.9999999974752427\n",
      "The old value is  13.49999999116335  and the new value is 13.599999990910874\n",
      "The new result is  -1.50000102153615\n",
      "The derivative is :  -0.9999999974752427\n",
      "The old value is  -15.49999999116335  and the new value is -15.599999990910874\n",
      "The new result is  -1.5000010215361534\n",
      "The derivative is :  -1.0000000010279564\n",
      "The old value is  30.50000000386285  and the new value is 30.400000003760056\n",
      "The updated values are  [13.599999990910874, -15.599999990910874, 30.400000003760056]\n",
      "The new value of z is  -1.2000000219383082\n",
      "The new result is  -1.1999990219383108\n",
      "The derivative is :  0.9999999974752427\n",
      "The old value is  13.599999990910874  and the new value is 13.699999990658398\n",
      "The new result is  -1.2000010219383057\n",
      "The derivative is :  -0.9999999974752427\n",
      "The old value is  -15.599999990910874  and the new value is -15.699999990658398\n",
      "The new result is  -1.2000010219383093\n",
      "The derivative is :  -1.0000000010279564\n",
      "The old value is  30.400000003760056  and the new value is 30.30000000365726\n",
      "The updated values are  [13.699999990658398, -15.699999990658398, 30.30000000365726]\n",
      "The new value of z is  -0.9000000223404641\n",
      "The new result is  -0.8999990223404666\n",
      "The derivative is :  0.9999999974752427\n",
      "The old value is  13.699999990658398  and the new value is 13.799999990405922\n",
      "The new result is  -0.9000010223404615\n",
      "The derivative is :  -0.9999999974752427\n",
      "The old value is  -15.699999990658398  and the new value is -15.799999990405922\n",
      "The new result is  -0.9000010223404651\n",
      "The derivative is :  -1.0000000010279564\n",
      "The old value is  30.30000000365726  and the new value is 30.200000003554464\n",
      "The updated values are  [13.799999990405922, -15.799999990405922, 30.200000003554464]\n",
      "The new value of z is  -0.6000000227426199\n",
      "The new result is  -0.5999990227426224\n",
      "The derivative is :  0.9999999974752427\n",
      "The old value is  13.799999990405922  and the new value is 13.899999990153447\n",
      "The new result is  -0.6000010227426174\n",
      "The derivative is :  -0.9999999974752427\n",
      "The old value is  -15.799999990405922  and the new value is -15.899999990153447\n",
      "The new result is  -0.6000010227426209\n",
      "The derivative is :  -1.0000000010279564\n",
      "The old value is  30.200000003554464  and the new value is 30.10000000345167\n",
      "The updated values are  [13.899999990153447, -15.899999990153447, 30.10000000345167]\n",
      "The new value of z is  -0.3000000231447757\n",
      "The new result is  -0.2999990231447782\n",
      "The derivative is :  0.9999999974752427\n",
      "The old value is  13.899999990153447  and the new value is 13.99999998990097\n",
      "The new result is  -0.30000102314477317\n",
      "The derivative is :  -0.9999999974752427\n",
      "The old value is  -15.899999990153447  and the new value is -15.99999998990097\n",
      "The new result is  -0.3000010231447767\n",
      "The derivative is :  -1.0000000010279564\n",
      "The old value is  30.10000000345167  and the new value is 30.000000003348873\n",
      "The updated values are  [13.99999998990097, -15.99999998990097, 30.000000003348873]\n",
      "The new value of z is  -2.3546931515738834e-08\n",
      "The new result is  9.764530659595039e-07\n",
      "The derivative is :  0.9999999974752427\n",
      "The old value is  13.99999998990097  and the new value is 14.099999989648495\n",
      "The new result is  -1.0235469289909815e-06\n",
      "The derivative is :  -0.9999999974752427\n",
      "The old value is  -15.99999998990097  and the new value is -16.099999989648495\n",
      "The new result is  -1.0235469325436952e-06\n",
      "The derivative is :  -1.0000000010279564\n",
      "The old value is  30.000000003348873  and the new value is 29.900000003246078\n",
      "The updated values are  [14.099999989648495, -16.099999989648495, 29.900000003246078]\n",
      "The new value of z is  0.29999997605091266\n"
     ]
    }
   ],
   "source": [
    "h = 0.000001\n",
    "values = [10, -12, 34]\n",
    "updated_values = [0, 0, 0]\n",
    "lr = 0000.1\n",
    "z_val = z(*values)\n",
    "while z_val < 0:\n",
    "    for i in range(len(values)) :\n",
    "        old_result = z(*values)\n",
    "        old_value = values[i]\n",
    "        values[i] = values[i] + h\n",
    "        new_result = z(*values)\n",
    "        print(\"The new result is \", new_result)\n",
    "        derivative_i = (new_result - old_result)/h\n",
    "        print(\"The derivative is : \", derivative_i)\n",
    "        updated_values[i] = old_value + (lr*derivative_i)\n",
    "        print(\"The old value is \", old_value, \" and the new value is\", updated_values[i])\n",
    "        values[i] = old_value\n",
    "    values = updated_values.copy()\n",
    "    updated_values = [0, 0, 0]\n",
    "    print(\"The updated values are \", values)\n",
    "    z_val = z(*values)\n",
    "    print(\"The new value of z is \", z_val)"
   ]
  },
  {
   "cell_type": "code",
   "execution_count": 188,
   "metadata": {},
   "outputs": [
    {
     "name": "stdout",
     "output_type": "stream",
     "text": [
      "4.0\n"
     ]
    }
   ],
   "source": [
    "# experimenting with chain rule\n",
    "a = 2.0\n",
    "b = -3.0\n",
    "c = 10.0\n",
    "\n",
    "d = a*b + c\n",
    "print(d)"
   ]
  },
  {
   "cell_type": "code",
   "execution_count": 189,
   "metadata": {},
   "outputs": [
    {
     "name": "stdout",
     "output_type": "stream",
     "text": [
      "48.0\n"
     ]
    }
   ],
   "source": [
    "# we will chain another operation to d\n",
    "e = 12\n",
    "f = e * d\n",
    "print(f)"
   ]
  },
  {
   "cell_type": "code",
   "execution_count": 190,
   "metadata": {},
   "outputs": [
    {
     "name": "stdout",
     "output_type": "stream",
     "text": [
      "1.0000000000331966\n"
     ]
    }
   ],
   "source": [
    "# how will we find the derivative of f with respect to a ie d_f/d_a\n",
    "# according to chain rule we would have to find the derivative of f with respect to d and multiply it by the derivative of d with respect to a\n",
    "\n",
    "# find the derivative of f with respect to d\n",
    "\n",
    "h = 0.0001\n",
    "new_f = e * d + h\n",
    "df_dd = (new_f - f)/h\n",
    "print(df_dd)"
   ]
  },
  {
   "cell_type": "code",
   "execution_count": 191,
   "metadata": {},
   "outputs": [
    {
     "data": {
      "text/plain": [
       "(2.0, -3.0, 10.0, 4.0)"
      ]
     },
     "execution_count": 191,
     "metadata": {},
     "output_type": "execute_result"
    }
   ],
   "source": [
    "a, b, c, d"
   ]
  },
  {
   "cell_type": "code",
   "execution_count": 192,
   "metadata": {},
   "outputs": [
    {
     "data": {
      "text/plain": [
       "4.0001"
      ]
     },
     "execution_count": 192,
     "metadata": {},
     "output_type": "execute_result"
    }
   ],
   "source": [
    "new_d = a*b + (c+h)\n",
    "new_d"
   ]
  },
  {
   "cell_type": "code",
   "execution_count": 193,
   "metadata": {},
   "outputs": [
    {
     "data": {
      "text/plain": [
       "0.9999999999976694"
      ]
     },
     "execution_count": 193,
     "metadata": {},
     "output_type": "execute_result"
    }
   ],
   "source": [
    "(new_d - d) / h"
   ]
  },
  {
   "cell_type": "code",
   "execution_count": 194,
   "metadata": {},
   "outputs": [
    {
     "name": "stdout",
     "output_type": "stream",
     "text": [
      "-3.000000000010772\n"
     ]
    }
   ],
   "source": [
    "# find the derivative of d with respect to a\n",
    "new_d = (a+h)*b + c\n",
    "dd_da = (new_d - d)/h\n",
    "print(dd_da)"
   ]
  },
  {
   "cell_type": "code",
   "execution_count": 195,
   "metadata": {},
   "outputs": [
    {
     "name": "stdout",
     "output_type": "stream",
     "text": [
      "-3.0000000001103615\n"
     ]
    }
   ],
   "source": [
    "# according to chain rule df_da should be df_dd * dd_da\n",
    "df_da = df_dd * dd_da\n",
    "print(df_da)"
   ]
  },
  {
   "cell_type": "code",
   "execution_count": 196,
   "metadata": {},
   "outputs": [],
   "source": [
    "# creating value object\n",
    "import math\n",
    "class Value:\n",
    "    def __init__(self, data, _children=(), _op=\"\"):\n",
    "        self.data = data\n",
    "        self.grad = 0\n",
    "        self._backward = lambda: None\n",
    "        self._prev = set(_children)\n",
    "        self._op = _op\n",
    "        \n",
    "    def __str__(self):\n",
    "        return f\"Value(data={self.data})\"\n",
    "    \n",
    "    def __repr__(self):\n",
    "        return f\"Value(data={self.data})\"\n",
    "    \n",
    "    def __add__(self, other):\n",
    "        other = other if isinstance(other, Value) else Value(other)\n",
    "        result = other.data + self.data\n",
    "        out = Value(result, (self, other), \"+\")\n",
    "        def _backward():\n",
    "            self.grad += 1.0 * out.grad\n",
    "            other.grad += 1.0 * out.grad\n",
    "        out._backward = _backward\n",
    "        return out\n",
    "    \n",
    "    def __neg__(self):\n",
    "        return self * -1\n",
    "    \n",
    "    def __sub__(self, other):\n",
    "        return self + (-other)\n",
    "    \n",
    "    def __mul__(self, other):\n",
    "        other = other if isinstance(other, Value) else Value(other)\n",
    "        result = self.data * other.data\n",
    "        out = Value(result, (self, other), \"*\")\n",
    "        def _backward():\n",
    "            self.grad += other.data * out.grad\n",
    "            other.grad += self.data * out.grad\n",
    "        out._backward = _backward\n",
    "        return out\n",
    "    \n",
    "    def __rmul__(self, other):\n",
    "        return self * other\n",
    "    \n",
    "    def __truediv__(self, other):\n",
    "        return self * (other**-1)\n",
    "    \n",
    "    def __floordiv__(self, other):\n",
    "        other = other if isinstance(other, Value) else Value(other)\n",
    "        result = self.data / other.data\n",
    "        return Value(result, (self, other), \"/\")\n",
    "    \n",
    "    def __mod__(self, other):\n",
    "        other = other if isinstance(other, Value) else Value(other)\n",
    "        result = self.data % other.data\n",
    "        return Value(result, (self, other), \"%\")\n",
    "    \n",
    "    def __pow__(self, other):\n",
    "        assert isinstance(other, (int, float))\n",
    "        result = self.data ** other\n",
    "        out = Value(result, (self,), f\"** {other}\")\n",
    "        \n",
    "        def _backward():\n",
    "            self.grad += (other*(self.data**(other-1))) * out.grad\n",
    "        \n",
    "        out._backward = _backward\n",
    "        return out\n",
    "    \n",
    "    def tanh(self):\n",
    "        n = self.data\n",
    "        t = (math.exp(2*n) - 1)/(math.exp(2*n) + 1)\n",
    "        other = Value(t, (self,), \"tanh\")\n",
    "        def _backward():\n",
    "            self.grad += (1 - t**2) * other.grad\n",
    "        other._backward = _backward\n",
    "        return other\n",
    "    \n",
    "    def exp(self):\n",
    "        x = self.data\n",
    "        out = Value(math.exp(x), (self,), \"exp\")\n",
    "        \n",
    "        def _backward():\n",
    "            self.grad += out.data * out.grad\n",
    "        \n",
    "        out._backward = _backward\n",
    "        return out\n",
    "    \n",
    "    def backward(self):\n",
    "        topo = []\n",
    "        visited = set()\n",
    "        \n",
    "        def build_topo(v):\n",
    "            if v not in visited:\n",
    "                visited.add(v)\n",
    "                for child in v._prev:\n",
    "                    build_topo(child)\n",
    "                topo.append(v)\n",
    "        self.grad = 1\n",
    "        build_topo(self)\n",
    "        for node in reversed(topo):\n",
    "            node._backward()\n",
    "        \n",
    "    \n",
    "x1 = Value(2.0)\n",
    "x2 = Value(0.0)\n",
    "w1 = Value(-3.0)\n",
    "w2 = Value(1.0)\n",
    "b = Value(6.88137)\n",
    "\n",
    "x1w1 = x1 * w1\n",
    "x2w2 = x2 * w2\n",
    "\n",
    "x1w1x2w2 = x1w1 + x2w2\n",
    "n = x1w1x2w2 + b\n",
    "o = n.tanh()"
   ]
  },
  {
   "cell_type": "code",
   "execution_count": null,
   "metadata": {},
   "outputs": [],
   "source": []
  },
  {
   "cell_type": "code",
   "execution_count": 197,
   "metadata": {},
   "outputs": [
    {
     "data": {
      "text/plain": [
       "0"
      ]
     },
     "execution_count": 197,
     "metadata": {},
     "output_type": "execute_result"
    }
   ],
   "source": [
    "o.grad"
   ]
  },
  {
   "cell_type": "code",
   "execution_count": 198,
   "metadata": {},
   "outputs": [],
   "source": [
    "o.backward()"
   ]
  },
  {
   "cell_type": "code",
   "execution_count": 199,
   "metadata": {},
   "outputs": [
    {
     "data": {
      "text/plain": [
       "1"
      ]
     },
     "execution_count": 199,
     "metadata": {},
     "output_type": "execute_result"
    }
   ],
   "source": [
    "o.grad"
   ]
  },
  {
   "cell_type": "code",
   "execution_count": 200,
   "metadata": {},
   "outputs": [
    {
     "data": {
      "text/plain": [
       "0.5000025364090595"
      ]
     },
     "execution_count": 200,
     "metadata": {},
     "output_type": "execute_result"
    }
   ],
   "source": [
    "n.grad"
   ]
  },
  {
   "cell_type": "code",
   "execution_count": 201,
   "metadata": {},
   "outputs": [
    {
     "data": {
      "text/plain": [
       "-1.5000076092271784"
      ]
     },
     "execution_count": 201,
     "metadata": {},
     "output_type": "execute_result"
    }
   ],
   "source": [
    "x1.grad"
   ]
  },
  {
   "cell_type": "code",
   "execution_count": 202,
   "metadata": {},
   "outputs": [
    {
     "data": {
      "text/plain": [
       "1.000005072818119"
      ]
     },
     "execution_count": 202,
     "metadata": {},
     "output_type": "execute_result"
    }
   ],
   "source": [
    "w1.grad"
   ]
  },
  {
   "cell_type": "code",
   "execution_count": 203,
   "metadata": {},
   "outputs": [
    {
     "data": {
      "text/plain": [
       "0.0"
      ]
     },
     "execution_count": 203,
     "metadata": {},
     "output_type": "execute_result"
    }
   ],
   "source": [
    "w2.grad"
   ]
  },
  {
   "cell_type": "code",
   "execution_count": 204,
   "metadata": {},
   "outputs": [
    {
     "ename": "AttributeError",
     "evalue": "'float' object has no attribute 'grad'",
     "output_type": "error",
     "traceback": [
      "\u001b[0;31m---------------------------------------------------------------------------\u001b[0m",
      "\u001b[0;31mAttributeError\u001b[0m                            Traceback (most recent call last)",
      "Cell \u001b[0;32mIn[204], line 1\u001b[0m\n\u001b[0;32m----> 1\u001b[0m d\u001b[39m.\u001b[39;49mgrad\n",
      "\u001b[0;31mAttributeError\u001b[0m: 'float' object has no attribute 'grad'"
     ]
    }
   ],
   "source": [
    "d.grad"
   ]
  },
  {
   "cell_type": "code",
   "execution_count": null,
   "metadata": {},
   "outputs": [
    {
     "data": {
      "text/plain": [
       "1.0"
      ]
     },
     "execution_count": 214,
     "metadata": {},
     "output_type": "execute_result"
    }
   ],
   "source": [
    "c.grad"
   ]
  },
  {
   "cell_type": "code",
   "execution_count": null,
   "metadata": {},
   "outputs": [
    {
     "data": {
      "text/plain": [
       "-3.0"
      ]
     },
     "execution_count": 215,
     "metadata": {},
     "output_type": "execute_result"
    }
   ],
   "source": [
    "a.grad"
   ]
  },
  {
   "cell_type": "code",
   "execution_count": null,
   "metadata": {},
   "outputs": [
    {
     "data": {
      "text/plain": [
       "2.0"
      ]
     },
     "execution_count": 216,
     "metadata": {},
     "output_type": "execute_result"
    }
   ],
   "source": [
    "b.grad"
   ]
  },
  {
   "cell_type": "code",
   "execution_count": null,
   "metadata": {},
   "outputs": [
    {
     "data": {
      "text/plain": [
       "'+'"
      ]
     },
     "execution_count": 100,
     "metadata": {},
     "output_type": "execute_result"
    }
   ],
   "source": [
    "d._op"
   ]
  },
  {
   "cell_type": "code",
   "execution_count": null,
   "metadata": {},
   "outputs": [
    {
     "data": {
      "text/plain": [
       "(Value(data=2.0), Value(data=-3.0))"
      ]
     },
     "execution_count": 85,
     "metadata": {},
     "output_type": "execute_result"
    }
   ],
   "source": [
    "a = Value(2.0)\n",
    "b = Value(-3.0)\n",
    "a, b"
   ]
  },
  {
   "cell_type": "code",
   "execution_count": null,
   "metadata": {},
   "outputs": [
    {
     "data": {
      "text/plain": [
       "Value(data=-1.0)"
      ]
     },
     "execution_count": 86,
     "metadata": {},
     "output_type": "execute_result"
    }
   ],
   "source": [
    "c = a + b\n",
    "c"
   ]
  },
  {
   "cell_type": "code",
   "execution_count": null,
   "metadata": {},
   "outputs": [
    {
     "data": {
      "text/plain": [
       "Value(data=20.0)"
      ]
     },
     "execution_count": 97,
     "metadata": {},
     "output_type": "execute_result"
    }
   ],
   "source": [
    "c*a"
   ]
  },
  {
   "cell_type": "code",
   "execution_count": null,
   "metadata": {},
   "outputs": [],
   "source": [
    "from graphviz import Digraph\n",
    "\n",
    "def trace(root):\n",
    "    nodes, edges = set(), set()\n",
    "    def build(v):\n",
    "        if v not in nodes:\n",
    "            nodes.add(v)\n",
    "            for child in v._prev:\n",
    "                edges.add((child, v))\n",
    "                build(child)\n",
    "    build(root)\n",
    "    return nodes, edges\n",
    "\n",
    "def draw_dot(root):\n",
    "    dot = Digraph(format=\"svg\", graph_attr={\"rankdir\": \"LR\"})\n",
    "    nodes, edges = trace(root)\n",
    "    \n",
    "    for n in nodes:\n",
    "        uid = str(id(n))\n",
    "        dot.node(name=uid, label=\"{ data %.4f}\" % (n.data,), shape=\"record\")\n",
    "        if n._op:\n",
    "            dot.node(name=uid+n._op, label=n._op)\n",
    "            dot.edge(uid + n._op, uid)\n",
    "    for n1, n2 in edges:\n",
    "        dot.edge(str(id(n1)), str(id(n2)) + n2._op)\n",
    "        \n",
    "    return dot"
   ]
  },
  {
   "cell_type": "code",
   "execution_count": null,
   "metadata": {},
   "outputs": [
    {
     "data": {
      "text/plain": [
       "Value(data=-8.0)"
      ]
     },
     "execution_count": 135,
     "metadata": {},
     "output_type": "execute_result"
    }
   ],
   "source": [
    "a = Value(2.0)\n",
    "b = Value(-3.0)\n",
    "c = Value(10.0)\n",
    "e = a * b \n",
    "d = e + c\n",
    "f = Value(-2.0)\n",
    "L = d * f   \n",
    "L"
   ]
  },
  {
   "cell_type": "code",
   "execution_count": null,
   "metadata": {},
   "outputs": [],
   "source": [
    "L.grad = 1.00\n",
    "d.grad = -2.00\n",
    "f.grad = 4.00\n",
    "c.grad = -2.00\n",
    "e.grad = -2.00\n",
    "a.grad = 6.00\n",
    "b.grad = -4.00\n"
   ]
  },
  {
   "cell_type": "code",
   "execution_count": null,
   "metadata": {},
   "outputs": [
    {
     "data": {
      "text/plain": [
       "Value(data=2.0)"
      ]
     },
     "execution_count": 136,
     "metadata": {},
     "output_type": "execute_result"
    }
   ],
   "source": [
    "a.data += a.grad\n",
    "b.data += b.grad\n",
    "c.data += c.grad\n",
    "f.data += f.grad\n",
    "\n",
    "e = a * b\n",
    "d = e + c\n",
    "L = d + f\n",
    "L"
   ]
  },
  {
   "cell_type": "code",
   "execution_count": null,
   "metadata": {},
   "outputs": [
    {
     "name": "stdout",
     "output_type": "stream",
     "text": [
      "Value(data=-8.0)\n",
      "Value(data=-7.9996)\n",
      "3.9999999999995595\n"
     ]
    }
   ],
   "source": [
    "def lol():\n",
    "    a = Value(2.0)\n",
    "    b = Value(-3.0)\n",
    "    c = Value(10.0)\n",
    "    e = a * b \n",
    "    d = e + c\n",
    "    f = Value(-2.0)\n",
    "    L = d * f    \n",
    "    L1 = L\n",
    "    \n",
    "    h = 0.0001\n",
    "    a = Value(2.0)\n",
    "    b = Value(-3.0)\n",
    "    c = Value(10.0)\n",
    "    e = a * b \n",
    "    d = e + c\n",
    "    f = Value(-2.0+h)\n",
    "    L = (d) * f    \n",
    "    L2 = L\n",
    "    \n",
    "    print(L1)\n",
    "    print(L2)\n",
    "    derivative = (L2.data-L1.data)/h\n",
    "    \n",
    "    print(derivative)\n",
    "    \n",
    "lol()\n",
    "    "
   ]
  },
  {
   "cell_type": "code",
   "execution_count": null,
   "metadata": {},
   "outputs": [
    {
     "data": {
      "text/plain": [
       "Value(data=2.0)"
      ]
     },
     "execution_count": 125,
     "metadata": {},
     "output_type": "execute_result"
    }
   ],
   "source": [
    "four = Value(4)\n",
    "two = Value(2)\n",
    "\n",
    "four/two"
   ]
  },
  {
   "cell_type": "code",
   "execution_count": null,
   "metadata": {},
   "outputs": [
    {
     "data": {
      "image/png": "[encoded data removed]",
      "text/plain": [
       "<Figure size 640x480 with 1 Axes>"
      ]
     },
     "metadata": {},
     "output_type": "display_data"
    }
   ],
   "source": [
    "plt.plot(np.arange(-5, 5, .25), np.tanh(np.arange(-5, 5, .25))); plt.grid()"
   ]
  },
  {
   "cell_type": "code",
   "execution_count": null,
   "metadata": {},
   "outputs": [
    {
     "name": "stdout",
     "output_type": "stream",
     "text": [
      "The value of n is  0.8813700000000004\n"
     ]
    },
    {
     "data": {
      "text/plain": [
       "Value(data=0.7071049876722272)"
      ]
     },
     "execution_count": 250,
     "metadata": {},
     "output_type": "execute_result"
    }
   ],
   "source": [
    "def Neuron(x1, x2, w1, w2):\n",
    "    pass\n",
    "\n",
    "x1 = Value(2.0)\n",
    "x2 = Value(0.0)\n",
    "w1 = Value(-3.0)\n",
    "w2 = Value(1.0)\n",
    "b = Value(6.88137)\n",
    "\n",
    "x1w1 = x1 * w1\n",
    "x2w2 = x2 * w2\n",
    "\n",
    "x1w1x2w2 = x1w1 + x2w2\n",
    "n = x1w1x2w2 + b\n",
    "o = n.tanh()\n",
    "\n",
    "o"
   ]
  },
  {
   "cell_type": "code",
   "execution_count": null,
   "metadata": {},
   "outputs": [],
   "source": [
    "o.grad =1.0"
   ]
  },
  {
   "cell_type": "code",
   "execution_count": null,
   "metadata": {},
   "outputs": [
    {
     "data": {
      "text/plain": [
       "1.0"
      ]
     },
     "execution_count": 218,
     "metadata": {},
     "output_type": "execute_result"
    }
   ],
   "source": [
    "o.grad"
   ]
  },
  {
   "cell_type": "code",
   "execution_count": null,
   "metadata": {},
   "outputs": [],
   "source": [
    "o._backward()"
   ]
  },
  {
   "cell_type": "code",
   "execution_count": null,
   "metadata": {},
   "outputs": [
    {
     "data": {
      "text/plain": [
       "0"
      ]
     },
     "execution_count": 220,
     "metadata": {},
     "output_type": "execute_result"
    }
   ],
   "source": [
    "n.grad"
   ]
  },
  {
   "cell_type": "code",
   "execution_count": null,
   "metadata": {},
   "outputs": [],
   "source": [
    "# start backward propagation\n",
    "o.grad = 1"
   ]
  },
  {
   "cell_type": "code",
   "execution_count": null,
   "metadata": {},
   "outputs": [
    {
     "data": {
      "text/plain": [
       "Value(data=0.49996718181288813)"
      ]
     },
     "execution_count": 154,
     "metadata": {},
     "output_type": "execute_result"
    }
   ],
   "source": [
    "\n",
    "# find do/dn\n",
    "def run():\n",
    "    h = 0.0001\n",
    "    x1 = Value(2.0)\n",
    "    x2 = Value(0.0)\n",
    "    w1 = Value(-3.0)\n",
    "    w2 = Value(1.0)\n",
    "    b = Value(6.88137)\n",
    "\n",
    "    x1w1 = x1 * w1\n",
    "    x2w2 = x2 * w2\n",
    "\n",
    "    x1w1x2w2 = x1w1 + x2w2\n",
    "    n = x1w1x2w2 + b + Value(h)\n",
    "    new_o = n.tanh()\n",
    "    n_grad = (new_o - o)/Value(h)\n",
    "    print(n_grad)"
   ]
  },
  {
   "cell_type": "code",
   "execution_count": null,
   "metadata": {},
   "outputs": [
    {
     "data": {
      "text/plain": [
       "0.5"
      ]
     },
     "execution_count": 162,
     "metadata": {},
     "output_type": "execute_result"
    }
   ],
   "source": [
    "n.grad = 0.5\n",
    "n.grad"
   ]
  },
  {
   "cell_type": "code",
   "execution_count": null,
   "metadata": {},
   "outputs": [],
   "source": [
    "b.grad = 0.5\n",
    "x1w1x2w2.grad = 0.5\n",
    "x1w1.grad = 0.5\n",
    "x2w2.grad = 0.5\n",
    "x1.grad = -1.5\n",
    "w1.grad = 1\n",
    "x2.grad = 0.5\n",
    "w2.grad = 0"
   ]
  },
  {
   "cell_type": "code",
   "execution_count": null,
   "metadata": {},
   "outputs": [],
   "source": [
    "import torch"
   ]
  },
  {
   "cell_type": "code",
   "execution_count": null,
   "metadata": {},
   "outputs": [
    {
     "name": "stdout",
     "output_type": "stream",
     "text": [
      "0.7071050214706146\n",
      "__________________\n",
      "Gradient of x1 is :  -1.500007465833125\n",
      "Gradient of x2 is :  0.5000024886110417\n",
      "Gradient of w1 is :  1.0000049772220834\n",
      "Gradient of w2 is :  0.0\n"
     ]
    }
   ],
   "source": [
    "# automatically performing backpropagation\\\n",
    "import torch\n",
    "\n",
    "x1 = torch.tensor([2.0]).double() ; x1.requires_grad = True\n",
    "x2 = torch.tensor([0.0]).double() ; x2.requires_grad = True\n",
    "w1 = torch.tensor([-3.0]).double() ; w1.requires_grad = True\n",
    "w2 = torch.tensor([1.0]).double() ; w2.requires_grad = True\n",
    "\n",
    "b = torch.tensor([6.88137]).double() ; b.requires_grad = True\n",
    "n = x1*w1 + x2*w2 + b\n",
    "o = torch.tanh(n)\n",
    "\n",
    "print(o.item())\n",
    "\n",
    "o.backward()\n",
    "\n",
    "print(\"__________________\")\n",
    "print(\"Gradient of x1 is : \", x1.grad.item())\n",
    "print(\"Gradient of x2 is : \", x2.grad.item())\n",
    "print(\"Gradient of w1 is : \", w1.grad.item())\n",
    "print(\"Gradient of w2 is : \", w2.grad.item())"
   ]
  },
  {
   "cell_type": "code",
   "execution_count": 209,
   "metadata": {},
   "outputs": [
    {
     "name": "stdout",
     "output_type": "stream",
     "text": [
      "The input x is  [2.0, 3.0]\n",
      "The weights w is : [Value(data=0.8057636319158743), Value(data=0.3585842651274225)]\n"
     ]
    },
    {
     "data": {
      "text/plain": [
       "Value(data=0.9999999902319887)"
      ]
     },
     "execution_count": 209,
     "metadata": {},
     "output_type": "execute_result"
    }
   ],
   "source": [
    "import numpy as np\n",
    "\n",
    "class Neuron:\n",
    "    def __init__(self, nin) -> None:\n",
    "        self.w = [Value(np.random.uniform(-1, 1)) for i in range(nin)]\n",
    "        self.b = Value(np.random.uniform(-1, 1))\n",
    "        \n",
    "    def __call__(self, x):\n",
    "        sum = Value(0)\n",
    "        print(\"The input x is \", x)\n",
    "        print(\"The weights w is :\", self.w)\n",
    "        assert len(x) == len(self.w)\n",
    "        for i in range(len(x)):\n",
    "            sum += x[i] * self.w[i]\n",
    "        result = sum + b\n",
    "        out = result.tanh()\n",
    "        return out\n",
    "    def params(self):\n",
    "        params = []\n",
    "        params.extend(self.w)\n",
    "        params.append(self.b)\n",
    "        \n",
    "        return params\n",
    "    \n",
    "x = [2.0, 3.0]\n",
    "n = Neuron(2)\n",
    "n(x)"
   ]
  },
  {
   "cell_type": "code",
   "execution_count": 210,
   "metadata": {},
   "outputs": [],
   "source": [
    "class Layer:\n",
    "    def __init__(self, nin, nout):\n",
    "        self.nin = nin\n",
    "        self.nout = nout\n",
    "        self.neurons = [Neuron(nin) for n in range(nout)]\n",
    "        \n",
    "    def __call__(self, x):\n",
    "        outputs = [neuron(x) for neuron in self.neurons]\n",
    "        return outputs[0] if len(outputs) == 1 else outputs\n",
    "    \n",
    "    def params(self):\n",
    "        params = []\n",
    "        for neuron in self.neurons:\n",
    "            params.extend(neuron.params())\n",
    "        return params"
   ]
  },
  {
   "cell_type": "code",
   "execution_count": 211,
   "metadata": {},
   "outputs": [],
   "source": [
    "class MLP:\n",
    "    def __init__(self, nin, nout):\n",
    "        self.layers = [Layer(nin, nout)]\n",
    "        self.nout = nout\n",
    "        \n",
    "    def create_layer(self, nout):\n",
    "        new_layer = Layer(self.nout, nout)\n",
    "        self.layers.append(new_layer)\n",
    "        self.nout = nout\n",
    "        \n",
    "    def add_layer(self, layer):\n",
    "        self.layers.append(layer)\n",
    "        self.nout = layer.nout\n",
    "        \n",
    "    def params(self):\n",
    "        params = []\n",
    "        for layer in self.layers:\n",
    "            params.extend(layer.params())\n",
    "        return params\n",
    "        \n",
    "    def __call__(self, x):\n",
    "        for layer in self.layers:\n",
    "            x = layer(x)\n",
    "        return x"
   ]
  },
  {
   "cell_type": "code",
   "execution_count": 212,
   "metadata": {},
   "outputs": [
    {
     "name": "stdout",
     "output_type": "stream",
     "text": [
      "The input x is  [2.0, 3.0, -1]\n",
      "The weights w is : [Value(data=-0.06809826215473569), Value(data=0.5968120836349755), Value(data=-0.8003623594824254)]\n",
      "The input x is  [2.0, 3.0, -1]\n",
      "The weights w is : [Value(data=0.5400368180323456), Value(data=0.5488840678275111), Value(data=0.00832095933904431)]\n",
      "The input x is  [2.0, 3.0, -1]\n",
      "The weights w is : [Value(data=0.9348307924758563), Value(data=0.05075789247705553), Value(data=-0.11505211855162756)]\n",
      "The input x is  [2.0, 3.0, -1]\n",
      "The weights w is : [Value(data=-0.9129194278508672), Value(data=0.9217304583564536), Value(data=0.9138341756064088)]\n",
      "The input x is  [Value(data=0.9999999844436512), Value(data=0.9999999908215049), Value(data=0.9999999706380904), Value(data=0.999997996531258)]\n",
      "The weights w is : [Value(data=0.42686828230929685), Value(data=0.37263412554929976), Value(data=0.2807076550453198), Value(data=0.5883736022378641)]\n",
      "The input x is  [Value(data=0.9999999844436512), Value(data=0.9999999908215049), Value(data=0.9999999706380904), Value(data=0.999997996531258)]\n",
      "The weights w is : [Value(data=0.33318811213866306), Value(data=-0.5564969803576354), Value(data=-0.41925281440020945), Value(data=-0.6130629899051594)]\n",
      "The input x is  [Value(data=0.9999999844436512), Value(data=0.9999999908215049), Value(data=0.9999999706380904), Value(data=0.999997996531258)]\n",
      "The weights w is : [Value(data=0.3321271659037017), Value(data=0.7305214011114085), Value(data=-0.9241672542459689), Value(data=-0.3177804319301445)]\n",
      "The input x is  [Value(data=0.9999999844436512), Value(data=0.9999999908215049), Value(data=0.9999999706380904), Value(data=0.999997996531258)]\n",
      "The weights w is : [Value(data=-0.9336113897347966), Value(data=-0.9916621241643557), Value(data=-0.7772840452458853), Value(data=0.48541634637018305)]\n",
      "The input x is  [Value(data=0.9999999250734692), Value(data=0.9999740245564002), Value(data=0.9999969822450403), Value(data=0.9998222970811392)]\n",
      "The weights w is : [Value(data=-0.5411041034577497), Value(data=-0.7200821956323904), Value(data=-0.265457441123484), Value(data=-0.6094968036277641)]\n"
     ]
    },
    {
     "data": {
      "text/plain": [
       "Value(data=0.9998489112264942)"
      ]
     },
     "execution_count": 212,
     "metadata": {},
     "output_type": "execute_result"
    }
   ],
   "source": [
    "x = [2.0, 3.0, -1]\n",
    "\n",
    "mlp = MLP(3, 4)\n",
    "mlp.create_layer(4)\n",
    "l = Layer(4, 1)\n",
    "mlp.add_layer(l)\n",
    "mlp(x)"
   ]
  },
  {
   "cell_type": "code",
   "execution_count": 213,
   "metadata": {},
   "outputs": [
    {
     "name": "stdout",
     "output_type": "stream",
     "text": [
      "The input x is  [2.0, 3.0, -1.0]\n",
      "The weights w is : [Value(data=-0.06809826215473569), Value(data=0.5968120836349755), Value(data=-0.8003623594824254)]\n",
      "The input x is  [2.0, 3.0, -1.0]\n",
      "The weights w is : [Value(data=0.5400368180323456), Value(data=0.5488840678275111), Value(data=0.00832095933904431)]\n",
      "The input x is  [2.0, 3.0, -1.0]\n",
      "The weights w is : [Value(data=0.9348307924758563), Value(data=0.05075789247705553), Value(data=-0.11505211855162756)]\n",
      "The input x is  [2.0, 3.0, -1.0]\n",
      "The weights w is : [Value(data=-0.9129194278508672), Value(data=0.9217304583564536), Value(data=0.9138341756064088)]\n",
      "The input x is  [Value(data=0.9999999844436512), Value(data=0.9999999908215049), Value(data=0.9999999706380904), Value(data=0.999997996531258)]\n",
      "The weights w is : [Value(data=0.42686828230929685), Value(data=0.37263412554929976), Value(data=0.2807076550453198), Value(data=0.5883736022378641)]\n",
      "The input x is  [Value(data=0.9999999844436512), Value(data=0.9999999908215049), Value(data=0.9999999706380904), Value(data=0.999997996531258)]\n",
      "The weights w is : [Value(data=0.33318811213866306), Value(data=-0.5564969803576354), Value(data=-0.41925281440020945), Value(data=-0.6130629899051594)]\n",
      "The input x is  [Value(data=0.9999999844436512), Value(data=0.9999999908215049), Value(data=0.9999999706380904), Value(data=0.999997996531258)]\n",
      "The weights w is : [Value(data=0.3321271659037017), Value(data=0.7305214011114085), Value(data=-0.9241672542459689), Value(data=-0.3177804319301445)]\n",
      "The input x is  [Value(data=0.9999999844436512), Value(data=0.9999999908215049), Value(data=0.9999999706380904), Value(data=0.999997996531258)]\n",
      "The weights w is : [Value(data=-0.9336113897347966), Value(data=-0.9916621241643557), Value(data=-0.7772840452458853), Value(data=0.48541634637018305)]\n",
      "The input x is  [Value(data=0.9999999250734692), Value(data=0.9999740245564002), Value(data=0.9999969822450403), Value(data=0.9998222970811392)]\n",
      "The weights w is : [Value(data=-0.5411041034577497), Value(data=-0.7200821956323904), Value(data=-0.265457441123484), Value(data=-0.6094968036277641)]\n",
      "The input x is  [3.0, -1.0, 0.5]\n",
      "The weights w is : [Value(data=-0.06809826215473569), Value(data=0.5968120836349755), Value(data=-0.8003623594824254)]\n",
      "The input x is  [3.0, -1.0, 0.5]\n",
      "The weights w is : [Value(data=0.5400368180323456), Value(data=0.5488840678275111), Value(data=0.00832095933904431)]\n",
      "The input x is  [3.0, -1.0, 0.5]\n",
      "The weights w is : [Value(data=0.9348307924758563), Value(data=0.05075789247705553), Value(data=-0.11505211855162756)]\n",
      "The input x is  [3.0, -1.0, 0.5]\n",
      "The weights w is : [Value(data=-0.9129194278508672), Value(data=0.9217304583564536), Value(data=0.9138341756064088)]\n",
      "The input x is  [Value(data=0.9999766993283159), Value(data=0.9999997545976367), Value(data=0.9999999904048653), Value(data=0.9987228041075216)]\n",
      "The weights w is : [Value(data=0.42686828230929685), Value(data=0.37263412554929976), Value(data=0.2807076550453198), Value(data=0.5883736022378641)]\n",
      "The input x is  [Value(data=0.9999766993283159), Value(data=0.9999997545976367), Value(data=0.9999999904048653), Value(data=0.9987228041075216)]\n",
      "The weights w is : [Value(data=0.33318811213866306), Value(data=-0.5564969803576354), Value(data=-0.41925281440020945), Value(data=-0.6130629899051594)]\n",
      "The input x is  [Value(data=0.9999766993283159), Value(data=0.9999997545976367), Value(data=0.9999999904048653), Value(data=0.9987228041075216)]\n",
      "The weights w is : [Value(data=0.3321271659037017), Value(data=0.7305214011114085), Value(data=-0.9241672542459689), Value(data=-0.3177804319301445)]\n",
      "The input x is  [Value(data=0.9999766993283159), Value(data=0.9999997545976367), Value(data=0.9999999904048653), Value(data=0.9987228041075216)]\n",
      "The weights w is : [Value(data=-0.9336113897347966), Value(data=-0.9916621241643557), Value(data=-0.7772840452458853), Value(data=0.48541634637018305)]\n",
      "The input x is  [Value(data=0.9999999249594476), Value(data=0.999974064741924), Value(data=0.999996984642033), Value(data=0.9998220847813936)]\n",
      "The weights w is : [Value(data=-0.5411041034577497), Value(data=-0.7200821956323904), Value(data=-0.265457441123484), Value(data=-0.6094968036277641)]\n",
      "The input x is  [0.5, 1.0, 1.0]\n",
      "The weights w is : [Value(data=-0.06809826215473569), Value(data=0.5968120836349755), Value(data=-0.8003623594824254)]\n",
      "The input x is  [0.5, 1.0, 1.0]\n",
      "The weights w is : [Value(data=0.5400368180323456), Value(data=0.5488840678275111), Value(data=0.00832095933904431)]\n",
      "The input x is  [0.5, 1.0, 1.0]\n",
      "The weights w is : [Value(data=0.9348307924758563), Value(data=0.05075789247705553), Value(data=-0.11505211855162756)]\n",
      "The input x is  [0.5, 1.0, 1.0]\n",
      "The weights w is : [Value(data=-0.9129194278508672), Value(data=0.9217304583564536), Value(data=0.9138341756064088)]\n",
      "The input x is  [Value(data=0.9999966090339311), Value(data=0.9999995968833624), Value(data=0.9999990585415585), Value(data=0.9999998663180982)]\n",
      "The weights w is : [Value(data=0.42686828230929685), Value(data=0.37263412554929976), Value(data=0.2807076550453198), Value(data=0.5883736022378641)]\n",
      "The input x is  [Value(data=0.9999966090339311), Value(data=0.9999995968833624), Value(data=0.9999990585415585), Value(data=0.9999998663180982)]\n",
      "The weights w is : [Value(data=0.33318811213866306), Value(data=-0.5564969803576354), Value(data=-0.41925281440020945), Value(data=-0.6130629899051594)]\n",
      "The input x is  [Value(data=0.9999966090339311), Value(data=0.9999995968833624), Value(data=0.9999990585415585), Value(data=0.9999998663180982)]\n",
      "The weights w is : [Value(data=0.3321271659037017), Value(data=0.7305214011114085), Value(data=-0.9241672542459689), Value(data=-0.3177804319301445)]\n",
      "The input x is  [Value(data=0.9999966090339311), Value(data=0.9999995968833624), Value(data=0.9999990585415585), Value(data=0.9999998663180982)]\n",
      "The weights w is : [Value(data=-0.9336113897347966), Value(data=-0.9916621241643557), Value(data=-0.7772840452458853), Value(data=0.48541634637018305)]\n",
      "The input x is  [Value(data=0.9999999250733578), Value(data=0.9999740244696785), Value(data=0.9999969822380385), Value(data=0.9998222989143484)]\n",
      "The weights w is : [Value(data=-0.5411041034577497), Value(data=-0.7200821956323904), Value(data=-0.265457441123484), Value(data=-0.6094968036277641)]\n",
      "The input x is  [1.0, 1.0, -1.0]\n",
      "The weights w is : [Value(data=-0.06809826215473569), Value(data=0.5968120836349755), Value(data=-0.8003623594824254)]\n",
      "The input x is  [1.0, 1.0, -1.0]\n",
      "The weights w is : [Value(data=0.5400368180323456), Value(data=0.5488840678275111), Value(data=0.00832095933904431)]\n",
      "The input x is  [1.0, 1.0, -1.0]\n",
      "The weights w is : [Value(data=0.9348307924758563), Value(data=0.05075789247705553), Value(data=-0.11505211855162756)]\n",
      "The input x is  [1.0, 1.0, -1.0]\n",
      "The weights w is : [Value(data=-0.9129194278508672), Value(data=0.9217304583564536), Value(data=0.9138341756064088)]\n",
      "The input x is  [Value(data=0.9999998522501587), Value(data=0.9999997571429392), Value(data=0.9999997666845749), Value(data=0.9999871163690515)]\n",
      "The weights w is : [Value(data=0.42686828230929685), Value(data=0.37263412554929976), Value(data=0.2807076550453198), Value(data=0.5883736022378641)]\n",
      "The input x is  [Value(data=0.9999998522501587), Value(data=0.9999997571429392), Value(data=0.9999997666845749), Value(data=0.9999871163690515)]\n",
      "The weights w is : [Value(data=0.33318811213866306), Value(data=-0.5564969803576354), Value(data=-0.41925281440020945), Value(data=-0.6130629899051594)]\n",
      "The input x is  [Value(data=0.9999998522501587), Value(data=0.9999997571429392), Value(data=0.9999997666845749), Value(data=0.9999871163690515)]\n",
      "The weights w is : [Value(data=0.3321271659037017), Value(data=0.7305214011114085), Value(data=-0.9241672542459689), Value(data=-0.3177804319301445)]\n",
      "The input x is  [Value(data=0.9999998522501587), Value(data=0.9999997571429392), Value(data=0.9999997666845749), Value(data=0.9999871163690515)]\n",
      "The weights w is : [Value(data=-0.9336113897347966), Value(data=-0.9916621241643557), Value(data=-0.7772840452458853), Value(data=0.48541634637018305)]\n",
      "The input x is  [Value(data=0.9999999250724798), Value(data=0.999974024911827), Value(data=0.9999969822657503), Value(data=0.9998222953868022)]\n",
      "The weights w is : [Value(data=-0.5411041034577497), Value(data=-0.7200821956323904), Value(data=-0.265457441123484), Value(data=-0.6094968036277641)]\n"
     ]
    },
    {
     "data": {
      "text/plain": [
       "[Value(data=0.9998489112264942),\n",
       " Value(data=0.9998489112566749),\n",
       " Value(data=0.9998489112261761),\n",
       " Value(data=0.9998489112267275)]"
      ]
     },
     "execution_count": 213,
     "metadata": {},
     "output_type": "execute_result"
    }
   ],
   "source": [
    "# create sample data for the neural network\n",
    "xs = [[2.0, 3.0, -1.0],\n",
    "      [3.0, -1.0, 0.5],\n",
    "      [0.5, 1.0, 1.0],\n",
    "      [1.0, 1.0, -1.0],]\n",
    "\n",
    "ys = [1.0, -1.0, -1.0, 1.0]\n",
    "\n",
    "y_predictions = [mlp(x) for x in xs]\n",
    "y_predictions"
   ]
  },
  {
   "cell_type": "code",
   "execution_count": 214,
   "metadata": {},
   "outputs": [
    {
     "data": {
      "text/plain": [
       "Value(data=7.998791381242664)"
      ]
     },
     "execution_count": 214,
     "metadata": {},
     "output_type": "execute_result"
    }
   ],
   "source": [
    "# define the loss function\n",
    "def mse(y, y_pred):\n",
    "    assert len(y) == len(y_pred)\n",
    "    total = Value(0.00)\n",
    "    for i in range(len(y)):\n",
    "        diff = (Value(y[i]) - y_pred[i])**2\n",
    "        total += diff\n",
    "    return total\n",
    "\n",
    "loss = mse(ys, y_predictions)\n",
    "loss"
   ]
  },
  {
   "cell_type": "code",
   "execution_count": 215,
   "metadata": {},
   "outputs": [
    {
     "data": {
      "text/plain": [
       "0"
      ]
     },
     "execution_count": 215,
     "metadata": {},
     "output_type": "execute_result"
    }
   ],
   "source": [
    "loss.grad"
   ]
  },
  {
   "cell_type": "code",
   "execution_count": 216,
   "metadata": {},
   "outputs": [],
   "source": [
    "loss.backward()"
   ]
  },
  {
   "cell_type": "code",
   "execution_count": 217,
   "metadata": {},
   "outputs": [
    {
     "data": {
      "text/plain": [
       "1"
      ]
     },
     "execution_count": 217,
     "metadata": {},
     "output_type": "execute_result"
    }
   ],
   "source": [
    "loss.grad"
   ]
  },
  {
   "cell_type": "code",
   "execution_count": 218,
   "metadata": {},
   "outputs": [
    {
     "data": {
      "text/plain": [
       "3.278385384799061e-11"
      ]
     },
     "execution_count": 218,
     "metadata": {},
     "output_type": "execute_result"
    }
   ],
   "source": [
    "mlp.layers[0].neurons[0].w[0].grad"
   ]
  },
  {
   "cell_type": "code",
   "execution_count": 219,
   "metadata": {},
   "outputs": [
    {
     "data": {
      "text/plain": [
       "[Value(data=-0.06809826215473569),\n",
       " Value(data=0.5968120836349755),\n",
       " Value(data=-0.8003623594824254),\n",
       " Value(data=0.8427328935135907),\n",
       " Value(data=0.5400368180323456),\n",
       " Value(data=0.5488840678275111),\n",
       " Value(data=0.00832095933904431),\n",
       " Value(data=0.7421769143889381),\n",
       " Value(data=0.9348307924758563),\n",
       " Value(data=0.05075789247705553),\n",
       " Value(data=-0.11505211855162756),\n",
       " Value(data=0.6346601910759628),\n",
       " Value(data=-0.9129194278508672),\n",
       " Value(data=0.9217304583564536),\n",
       " Value(data=0.9138341756064088),\n",
       " Value(data=-0.932229476885317),\n",
       " Value(data=0.42686828230929685),\n",
       " Value(data=0.37263412554929976),\n",
       " Value(data=0.2807076550453198),\n",
       " Value(data=0.5883736022378641),\n",
       " Value(data=-0.6400393403993727),\n",
       " Value(data=0.33318811213866306),\n",
       " Value(data=-0.5564969803576354),\n",
       " Value(data=-0.41925281440020945),\n",
       " Value(data=-0.6130629899051594),\n",
       " Value(data=0.5644981903896289),\n",
       " Value(data=0.3321271659037017),\n",
       " Value(data=0.7305214011114085),\n",
       " Value(data=-0.9241672542459689),\n",
       " Value(data=-0.3177804319301445),\n",
       " Value(data=-0.721640485918505),\n",
       " Value(data=-0.9336113897347966),\n",
       " Value(data=-0.9916621241643557),\n",
       " Value(data=-0.7772840452458853),\n",
       " Value(data=0.48541634637018305),\n",
       " Value(data=-0.9138072173026535),\n",
       " Value(data=-0.5411041034577497),\n",
       " Value(data=-0.7200821956323904),\n",
       " Value(data=-0.265457441123484),\n",
       " Value(data=-0.6094968036277641),\n",
       " Value(data=0.9158018284046832)]"
      ]
     },
     "execution_count": 219,
     "metadata": {},
     "output_type": "execute_result"
    }
   ],
   "source": [
    "mlp.params()"
   ]
  },
  {
   "cell_type": "code",
   "execution_count": 220,
   "metadata": {},
   "outputs": [],
   "source": [
    "def zero_grad(parameters):\n",
    "    for p in parameters:\n",
    "        p.grad = 0"
   ]
  },
  {
   "cell_type": "code",
   "execution_count": 221,
   "metadata": {},
   "outputs": [],
   "source": [
    "def optimize(lr, parameters):\n",
    "    zero_grad(parameters)\n",
    "    for p in parameters:\n",
    "        print(\"P data is \", p.data)\n",
    "        p.data += -lr * p.grad\n",
    "        print(\"New P data is \", p.data)"
   ]
  },
  {
   "cell_type": "code",
   "execution_count": 222,
   "metadata": {},
   "outputs": [],
   "source": [
    "def compute(model, xs):\n",
    "    y_predictions = [model(x) for x in xs]\n",
    "    return y_predictions"
   ]
  },
  {
   "cell_type": "code",
   "execution_count": 228,
   "metadata": {},
   "outputs": [
    {
     "name": "stdout",
     "output_type": "stream",
     "text": [
      "The input x is  [2.0, 3.0, -1.0]\n",
      "The weights w is : [Value(data=-0.06809826215473569), Value(data=0.5968120836349755), Value(data=-0.8003623594824254)]\n",
      "The input x is  [2.0, 3.0, -1.0]\n",
      "The weights w is : [Value(data=0.5400368180323456), Value(data=0.5488840678275111), Value(data=0.00832095933904431)]\n",
      "The input x is  [2.0, 3.0, -1.0]\n",
      "The weights w is : [Value(data=0.9348307924758563), Value(data=0.05075789247705553), Value(data=-0.11505211855162756)]\n",
      "The input x is  [2.0, 3.0, -1.0]\n",
      "The weights w is : [Value(data=-0.9129194278508672), Value(data=0.9217304583564536), Value(data=0.9138341756064088)]\n",
      "The input x is  [Value(data=0.9999999844436512), Value(data=0.9999999908215049), Value(data=0.9999999706380904), Value(data=0.999997996531258)]\n",
      "The weights w is : [Value(data=0.42686828230929685), Value(data=0.37263412554929976), Value(data=0.2807076550453198), Value(data=0.5883736022378641)]\n",
      "The input x is  [Value(data=0.9999999844436512), Value(data=0.9999999908215049), Value(data=0.9999999706380904), Value(data=0.999997996531258)]\n",
      "The weights w is : [Value(data=0.33318811213866306), Value(data=-0.5564969803576354), Value(data=-0.41925281440020945), Value(data=-0.6130629899051594)]\n",
      "The input x is  [Value(data=0.9999999844436512), Value(data=0.9999999908215049), Value(data=0.9999999706380904), Value(data=0.999997996531258)]\n",
      "The weights w is : [Value(data=0.3321271659037017), Value(data=0.7305214011114085), Value(data=-0.9241672542459689), Value(data=-0.3177804319301445)]\n",
      "The input x is  [Value(data=0.9999999844436512), Value(data=0.9999999908215049), Value(data=0.9999999706380904), Value(data=0.999997996531258)]\n",
      "The weights w is : [Value(data=-0.9336113897347966), Value(data=-0.9916621241643557), Value(data=-0.7772840452458853), Value(data=0.48541634637018305)]\n",
      "The input x is  [Value(data=0.9999999250734692), Value(data=0.9999740245564002), Value(data=0.9999969822450403), Value(data=0.9998222970811392)]\n",
      "The weights w is : [Value(data=-0.5411041034577497), Value(data=-0.7200821956323904), Value(data=-0.265457441123484), Value(data=-0.6094968036277641)]\n",
      "The input x is  [3.0, -1.0, 0.5]\n",
      "The weights w is : [Value(data=-0.06809826215473569), Value(data=0.5968120836349755), Value(data=-0.8003623594824254)]\n",
      "The input x is  [3.0, -1.0, 0.5]\n",
      "The weights w is : [Value(data=0.5400368180323456), Value(data=0.5488840678275111), Value(data=0.00832095933904431)]\n",
      "The input x is  [3.0, -1.0, 0.5]\n",
      "The weights w is : [Value(data=0.9348307924758563), Value(data=0.05075789247705553), Value(data=-0.11505211855162756)]\n",
      "The input x is  [3.0, -1.0, 0.5]\n",
      "The weights w is : [Value(data=-0.9129194278508672), Value(data=0.9217304583564536), Value(data=0.9138341756064088)]\n",
      "The input x is  [Value(data=0.9999766993283159), Value(data=0.9999997545976367), Value(data=0.9999999904048653), Value(data=0.9987228041075216)]\n",
      "The weights w is : [Value(data=0.42686828230929685), Value(data=0.37263412554929976), Value(data=0.2807076550453198), Value(data=0.5883736022378641)]\n",
      "The input x is  [Value(data=0.9999766993283159), Value(data=0.9999997545976367), Value(data=0.9999999904048653), Value(data=0.9987228041075216)]\n",
      "The weights w is : [Value(data=0.33318811213866306), Value(data=-0.5564969803576354), Value(data=-0.41925281440020945), Value(data=-0.6130629899051594)]\n",
      "The input x is  [Value(data=0.9999766993283159), Value(data=0.9999997545976367), Value(data=0.9999999904048653), Value(data=0.9987228041075216)]\n",
      "The weights w is : [Value(data=0.3321271659037017), Value(data=0.7305214011114085), Value(data=-0.9241672542459689), Value(data=-0.3177804319301445)]\n",
      "The input x is  [Value(data=0.9999766993283159), Value(data=0.9999997545976367), Value(data=0.9999999904048653), Value(data=0.9987228041075216)]\n",
      "The weights w is : [Value(data=-0.9336113897347966), Value(data=-0.9916621241643557), Value(data=-0.7772840452458853), Value(data=0.48541634637018305)]\n",
      "The input x is  [Value(data=0.9999999249594476), Value(data=0.999974064741924), Value(data=0.999996984642033), Value(data=0.9998220847813936)]\n",
      "The weights w is : [Value(data=-0.5411041034577497), Value(data=-0.7200821956323904), Value(data=-0.265457441123484), Value(data=-0.6094968036277641)]\n",
      "The input x is  [0.5, 1.0, 1.0]\n",
      "The weights w is : [Value(data=-0.06809826215473569), Value(data=0.5968120836349755), Value(data=-0.8003623594824254)]\n",
      "The input x is  [0.5, 1.0, 1.0]\n",
      "The weights w is : [Value(data=0.5400368180323456), Value(data=0.5488840678275111), Value(data=0.00832095933904431)]\n",
      "The input x is  [0.5, 1.0, 1.0]\n",
      "The weights w is : [Value(data=0.9348307924758563), Value(data=0.05075789247705553), Value(data=-0.11505211855162756)]\n",
      "The input x is  [0.5, 1.0, 1.0]\n",
      "The weights w is : [Value(data=-0.9129194278508672), Value(data=0.9217304583564536), Value(data=0.9138341756064088)]\n",
      "The input x is  [Value(data=0.9999966090339311), Value(data=0.9999995968833624), Value(data=0.9999990585415585), Value(data=0.9999998663180982)]\n",
      "The weights w is : [Value(data=0.42686828230929685), Value(data=0.37263412554929976), Value(data=0.2807076550453198), Value(data=0.5883736022378641)]\n",
      "The input x is  [Value(data=0.9999966090339311), Value(data=0.9999995968833624), Value(data=0.9999990585415585), Value(data=0.9999998663180982)]\n",
      "The weights w is : [Value(data=0.33318811213866306), Value(data=-0.5564969803576354), Value(data=-0.41925281440020945), Value(data=-0.6130629899051594)]\n",
      "The input x is  [Value(data=0.9999966090339311), Value(data=0.9999995968833624), Value(data=0.9999990585415585), Value(data=0.9999998663180982)]\n",
      "The weights w is : [Value(data=0.3321271659037017), Value(data=0.7305214011114085), Value(data=-0.9241672542459689), Value(data=-0.3177804319301445)]\n",
      "The input x is  [Value(data=0.9999966090339311), Value(data=0.9999995968833624), Value(data=0.9999990585415585), Value(data=0.9999998663180982)]\n",
      "The weights w is : [Value(data=-0.9336113897347966), Value(data=-0.9916621241643557), Value(data=-0.7772840452458853), Value(data=0.48541634637018305)]\n",
      "The input x is  [Value(data=0.9999999250733578), Value(data=0.9999740244696785), Value(data=0.9999969822380385), Value(data=0.9998222989143484)]\n",
      "The weights w is : [Value(data=-0.5411041034577497), Value(data=-0.7200821956323904), Value(data=-0.265457441123484), Value(data=-0.6094968036277641)]\n",
      "The input x is  [1.0, 1.0, -1.0]\n",
      "The weights w is : [Value(data=-0.06809826215473569), Value(data=0.5968120836349755), Value(data=-0.8003623594824254)]\n",
      "The input x is  [1.0, 1.0, -1.0]\n",
      "The weights w is : [Value(data=0.5400368180323456), Value(data=0.5488840678275111), Value(data=0.00832095933904431)]\n",
      "The input x is  [1.0, 1.0, -1.0]\n",
      "The weights w is : [Value(data=0.9348307924758563), Value(data=0.05075789247705553), Value(data=-0.11505211855162756)]\n",
      "The input x is  [1.0, 1.0, -1.0]\n",
      "The weights w is : [Value(data=-0.9129194278508672), Value(data=0.9217304583564536), Value(data=0.9138341756064088)]\n",
      "The input x is  [Value(data=0.9999998522501587), Value(data=0.9999997571429392), Value(data=0.9999997666845749), Value(data=0.9999871163690515)]\n",
      "The weights w is : [Value(data=0.42686828230929685), Value(data=0.37263412554929976), Value(data=0.2807076550453198), Value(data=0.5883736022378641)]\n",
      "The input x is  [Value(data=0.9999998522501587), Value(data=0.9999997571429392), Value(data=0.9999997666845749), Value(data=0.9999871163690515)]\n",
      "The weights w is : [Value(data=0.33318811213866306), Value(data=-0.5564969803576354), Value(data=-0.41925281440020945), Value(data=-0.6130629899051594)]\n",
      "The input x is  [Value(data=0.9999998522501587), Value(data=0.9999997571429392), Value(data=0.9999997666845749), Value(data=0.9999871163690515)]\n",
      "The weights w is : [Value(data=0.3321271659037017), Value(data=0.7305214011114085), Value(data=-0.9241672542459689), Value(data=-0.3177804319301445)]\n",
      "The input x is  [Value(data=0.9999998522501587), Value(data=0.9999997571429392), Value(data=0.9999997666845749), Value(data=0.9999871163690515)]\n",
      "The weights w is : [Value(data=-0.9336113897347966), Value(data=-0.9916621241643557), Value(data=-0.7772840452458853), Value(data=0.48541634637018305)]\n",
      "The input x is  [Value(data=0.9999999250724798), Value(data=0.999974024911827), Value(data=0.9999969822657503), Value(data=0.9998222953868022)]\n",
      "The weights w is : [Value(data=-0.5411041034577497), Value(data=-0.7200821956323904), Value(data=-0.265457441123484), Value(data=-0.6094968036277641)]\n"
     ]
    },
    {
     "data": {
      "text/plain": [
       "Value(data=7.998791381242664)"
      ]
     },
     "execution_count": 228,
     "metadata": {},
     "output_type": "execute_result"
    }
   ],
   "source": [
    "loss = mse(ys, compute(mlp, xs))\n",
    "loss"
   ]
  },
  {
   "cell_type": "code",
   "execution_count": 226,
   "metadata": {},
   "outputs": [],
   "source": [
    "loss.backward()"
   ]
  },
  {
   "cell_type": "code",
   "execution_count": 227,
   "metadata": {},
   "outputs": [
    {
     "name": "stdout",
     "output_type": "stream",
     "text": [
      "P data is  -0.06809826215473569\n",
      "New P data is  -0.06809826215473569\n",
      "P data is  0.5968120836349755\n",
      "New P data is  0.5968120836349755\n",
      "P data is  -0.8003623594824254\n",
      "New P data is  -0.8003623594824254\n",
      "P data is  0.8427328935135907\n",
      "New P data is  0.8427328935135907\n",
      "P data is  0.5400368180323456\n",
      "New P data is  0.5400368180323456\n",
      "P data is  0.5488840678275111\n",
      "New P data is  0.5488840678275111\n",
      "P data is  0.00832095933904431\n",
      "New P data is  0.00832095933904431\n",
      "P data is  0.7421769143889381\n",
      "New P data is  0.7421769143889381\n",
      "P data is  0.9348307924758563\n",
      "New P data is  0.9348307924758563\n",
      "P data is  0.05075789247705553\n",
      "New P data is  0.05075789247705553\n",
      "P data is  -0.11505211855162756\n",
      "New P data is  -0.11505211855162756\n",
      "P data is  0.6346601910759628\n",
      "New P data is  0.6346601910759628\n",
      "P data is  -0.9129194278508672\n",
      "New P data is  -0.9129194278508672\n",
      "P data is  0.9217304583564536\n",
      "New P data is  0.9217304583564536\n",
      "P data is  0.9138341756064088\n",
      "New P data is  0.9138341756064088\n",
      "P data is  -0.932229476885317\n",
      "New P data is  -0.932229476885317\n",
      "P data is  0.42686828230929685\n",
      "New P data is  0.42686828230929685\n",
      "P data is  0.37263412554929976\n",
      "New P data is  0.37263412554929976\n",
      "P data is  0.2807076550453198\n",
      "New P data is  0.2807076550453198\n",
      "P data is  0.5883736022378641\n",
      "New P data is  0.5883736022378641\n",
      "P data is  -0.6400393403993727\n",
      "New P data is  -0.6400393403993727\n",
      "P data is  0.33318811213866306\n",
      "New P data is  0.33318811213866306\n",
      "P data is  -0.5564969803576354\n",
      "New P data is  -0.5564969803576354\n",
      "P data is  -0.41925281440020945\n",
      "New P data is  -0.41925281440020945\n",
      "P data is  -0.6130629899051594\n",
      "New P data is  -0.6130629899051594\n",
      "P data is  0.5644981903896289\n",
      "New P data is  0.5644981903896289\n",
      "P data is  0.3321271659037017\n",
      "New P data is  0.3321271659037017\n",
      "P data is  0.7305214011114085\n",
      "New P data is  0.7305214011114085\n",
      "P data is  -0.9241672542459689\n",
      "New P data is  -0.9241672542459689\n",
      "P data is  -0.3177804319301445\n",
      "New P data is  -0.3177804319301445\n",
      "P data is  -0.721640485918505\n",
      "New P data is  -0.721640485918505\n",
      "P data is  -0.9336113897347966\n",
      "New P data is  -0.9336113897347966\n",
      "P data is  -0.9916621241643557\n",
      "New P data is  -0.9916621241643557\n",
      "P data is  -0.7772840452458853\n",
      "New P data is  -0.7772840452458853\n",
      "P data is  0.48541634637018305\n",
      "New P data is  0.48541634637018305\n",
      "P data is  -0.9138072173026535\n",
      "New P data is  -0.9138072173026535\n",
      "P data is  -0.5411041034577497\n",
      "New P data is  -0.5411041034577497\n",
      "P data is  -0.7200821956323904\n",
      "New P data is  -0.7200821956323904\n",
      "P data is  -0.265457441123484\n",
      "New P data is  -0.265457441123484\n",
      "P data is  -0.6094968036277641\n",
      "New P data is  -0.6094968036277641\n",
      "P data is  0.9158018284046832\n",
      "New P data is  0.9158018284046832\n"
     ]
    }
   ],
   "source": [
    "optimize(1, mlp.params())"
   ]
  }
 ],
 "metadata": {
  "kernelspec": {
   "display_name": ".venv",
   "language": "python",
   "name": "python3"
  },
  "language_info": {
   "codemirror_mode": {
    "name": "ipython",
    "version": 3
   },
   "file_extension": ".py",
   "mimetype": "text/x-python",
   "name": "python",
   "nbconvert_exporter": "python",
   "pygments_lexer": "ipython3",
   "version": "3.10.10"
  },
  "orig_nbformat": 4,
  "vscode": {
   "interpreter": {
    "hash": "13ba94a6ea8fbdde8eb8c75f36dc05b11204228b6debe3cae0d7ff20db544970"
   }
  }
 },
 "nbformat": 4,
 "nbformat_minor": 2
}
