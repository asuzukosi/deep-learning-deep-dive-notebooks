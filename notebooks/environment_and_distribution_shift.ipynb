{
 "cells": [
  {
   "cell_type": "code",
   "execution_count": 1,
   "metadata": {},
   "outputs": [],
   "source": [
    "# What is environment and distribution shift\n",
    "\n",
    "# Hands on applications of machine learning. Fitting models to a variety of datasets\n",
    "# Where does the data come from? \n",
    "# Many failed machine learning deployments have to do with the machine learning researchers not thinking clearly about the source and use of their data\n",
    "\n",
    "# Implementation of a reinforcement learning model might be a possible solution to resolve the issue of data drift in our dataset.\n"
   ]
  },
  {
   "cell_type": "code",
   "execution_count": 2,
   "metadata": {},
   "outputs": [],
   "source": [
    "# Types of distribution shift\n",
    "# We assumed that or training data was sampleed from some distribution Ps(x, y) and our test data is drawn from a different distribution Pt(x, y).\n",
    "# Principled algoritms can detect shifts on the fly\n"
   ]
  },
  {
   "cell_type": "code",
   "execution_count": 3,
   "metadata": {},
   "outputs": [],
   "source": [
    "# Covariate Shifts\n",
    "# Covariate shifts are among the most widely studied distribution shits\n",
    "# This is cahgne that occurs based on the change of the features themselves\n",
    "# This is when the nature of the inputs themselves changes during test time \n",
    "# than what it was trained with\n"
   ]
  },
  {
   "cell_type": "code",
   "execution_count": 4,
   "metadata": {},
   "outputs": [],
   "source": [
    "# Label shift\n",
    "# This is based on the assumption that the target itself we are trying to predict itself is changing\n",
    "# This rises from the assumption the the target y leands to X, i.e the diagnosis leads to the symptoms. \n"
   ]
  },
  {
   "cell_type": "code",
   "execution_count": 5,
   "metadata": {},
   "outputs": [],
   "source": [
    "# Concept shift\n",
    "# This happens when the very definition of certain terms change ie. what is fashionble, what is possible nad not possible, job titles etc. \n"
   ]
  },
  {
   "cell_type": "code",
   "execution_count": 6,
   "metadata": {},
   "outputs": [],
   "source": [
    "# Examples of distribution shift\n",
    "# **Medical diagnostics**\n",
    "# **Self driving cars**"
   ]
  },
  {
   "cell_type": "code",
   "execution_count": 7,
   "metadata": {},
   "outputs": [],
   "source": [
    "# Nonstationary distributions\n",
    "# When the reality of the environment we are buildin the model for change"
   ]
  },
  {
   "cell_type": "code",
   "execution_count": 8,
   "metadata": {},
   "outputs": [],
   "source": [
    "# Correction of distribution shift\n",
    "# Empirical risk and risk: Statisticians call \"loss\" and \"empirical risk\". The entire risk is the loss of the model over the entire \n",
    "# data population. Hence we aim to minimize empirical risk, which is only the loss over a certain distribution of the the entire dataset.\n",
    "# Covariate shift correction: Weighted imperical risk minimization\n",
    "# Label shift correction: Similar to the covariate drift solution but now we do a bunch of stuff the the confusion matrix\n",
    "# Concept shift correction: Much harder to fix in a principled manner, usually would involve creating fresh data examples. We use the same weights and a few more training steps with the availability of new data to retrain the model. \n"
   ]
  },
  {
   "cell_type": "code",
   "execution_count": 9,
   "metadata": {},
   "outputs": [],
   "source": [
    "# A Taxonomy of learning problems\n",
    "# Batch learning: Learning with batches of data and keeping the learned algorithm the same way in a fixed state\n",
    "# Online learning: Continually improve our model based on learned observations i.e model Ft -> data Xt  -> estimate Ft(Xt) -> observation Yt -> loss L(Yt, Ft(Xt)) -> model Ft+1\n",
    "# Bandits\n",
    "# Control: In situations where the environment remembers what you did. Proportianal Integral Derivative are commonly used in these contexts\n",
    "# Reinforcement learining: This is context of learning with context to response from the environment\n"
   ]
  },
  {
   "cell_type": "code",
   "execution_count": 10,
   "metadata": {},
   "outputs": [],
   "source": [
    "# Considerin the environment\n",
    "# The learning sitution that worked in a static environmet might not work in a dynamic environment.\n",
    "# The speed and manner with which the environment changes is a determining factor in deciding what learning algorithm to use. \n",
    "# this is key information to keep in mind when dealing with concept drifts"
   ]
  },
  {
   "cell_type": "code",
   "execution_count": null,
   "metadata": {},
   "outputs": [],
   "source": [
    "# If we are to change the bahaviour of a search engine, then users would have to change the nature of their queries\n",
    "# and advertisers would have to change their target configuratons as the target their content may be shown too will \n",
    "# also change. \n"
   ]
  }
 ],
 "metadata": {
  "kernelspec": {
   "display_name": ".venv",
   "language": "python",
   "name": "python3"
  },
  "language_info": {
   "codemirror_mode": {
    "name": "ipython",
    "version": 3
   },
   "file_extension": ".py",
   "mimetype": "text/x-python",
   "name": "python",
   "nbconvert_exporter": "python",
   "pygments_lexer": "ipython3",
   "version": "3.10.10"
  },
  "orig_nbformat": 4
 },
 "nbformat": 4,
 "nbformat_minor": 2
}
