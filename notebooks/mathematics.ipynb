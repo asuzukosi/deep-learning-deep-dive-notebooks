{
 "cells": [
  {
   "attachments": {},
   "cell_type": "markdown",
   "metadata": {},
   "source": [
    "## Geometry and Linear Algebra operations"
   ]
  },
  {
   "cell_type": "code",
   "execution_count": 9,
   "metadata": {},
   "outputs": [],
   "source": [
    "# A vector is a list of numbers.\n",
    "v = [1, 7, 0, 1]"
   ]
  },
  {
   "cell_type": "code",
   "execution_count": 11,
   "metadata": {},
   "outputs": [
    {
     "name": "stdout",
     "output_type": "stream",
     "text": [
      "tensor(0.4190)\n"
     ]
    }
   ],
   "source": [
    "# finding the angle between two vectors\n",
    "import torch\n",
    "\n",
    "def angle(v1, v2):\n",
    "    return torch.acos(v1.dot(v2) / (torch.norm(v1) * torch.norm(v2)))\n",
    "\n",
    "# finding the angle between two vectors\n",
    "my_angle = angle(torch.tensor([0, 1, 2], dtype=torch.float32), torch.tensor([2.0, 3, 4]))\n",
    "print(my_angle)"
   ]
  }
 ],
 "metadata": {
  "kernelspec": {
   "display_name": "venv",
   "language": "python",
   "name": "python3"
  },
  "language_info": {
   "codemirror_mode": {
    "name": "ipython",
    "version": 3
   },
   "file_extension": ".py",
   "mimetype": "text/x-python",
   "name": "python",
   "nbconvert_exporter": "python",
   "pygments_lexer": "ipython3",
   "version": "3.10.1"
  },
  "orig_nbformat": 4,
  "vscode": {
   "interpreter": {
    "hash": "9e635601c4dd99cdb39b23f69f02569355e9e13e07531b4b96b70bf66df14f41"
   }
  }
 },
 "nbformat": 4,
 "nbformat_minor": 2
}
