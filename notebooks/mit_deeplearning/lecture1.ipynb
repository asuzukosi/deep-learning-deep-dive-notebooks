{
 "cells": [
  {
   "cell_type": "code",
   "execution_count": null,
   "metadata": {},
   "outputs": [],
   "source": [
    "# creating a single layer in tensorflow\n",
    "import tensorflow as tf\n",
    "\n",
    "class MyDenseLayer(tf.keras.layers.Layer):\n",
    "    def __init__(self, input_dim, output_dim, *args, **kwargs):\n",
    "        super().__init__(*args, **kwargs)\n",
    "        self.w = self.add_weight([input_dim, output_dim])\n",
    "        self.b = self.add_weight([output_dim])\n",
    "        \n",
    "    def call(self, inputs):\n",
    "        x = tf.matmul(inputs, self.w)\n",
    "        x = x + self.b\n",
    "        x = tf.math.sigmoid(x)\n",
    "        return x"
   ]
  },
  {
   "cell_type": "code",
   "execution_count": null,
   "metadata": {},
   "outputs": [],
   "source": [
    "# intuition for recurrent nuural networks\n",
    "class RNN():\n",
    "    def compute(self, input, history):\n",
    "        pass\n",
    "\n",
    "rnn = RNN()\n",
    "\n",
    "sentence = [\"I\", \"love\", \"neural\", \"networs\"]\n",
    "\n",
    "history = 0\n",
    "for i in range(len(sentence)):\n",
    "    output, history = rnn.compute(sentence[i], history)\n",
    "    \n",
    "output"
   ]
  },
  {
   "cell_type": "code",
   "execution_count": null,
   "metadata": {},
   "outputs": [],
   "source": [
    "class MyRNNCells(tf.keras.layers.Layer):\n",
    "    def __init__(self, rnn_units, inputdim, outputdim, *args, **kwargs):\n",
    "        super().__init__(*args, **kwargs)\n",
    "        \n",
    "        self.W_xh = self.add_weight([rnn_units, inputdim])\n",
    "        self.W_hh = self.add_weight([rnn_units, rnn_units])\n",
    "        self.W_yh = self.add_weight([outputdim, rnn_units])\n",
    "        \n",
    "        self.h = tf.zeros([rnn_units, 1])"
   ]
  }
 ],
 "metadata": {
  "language_info": {
   "name": "python"
  },
  "orig_nbformat": 4
 },
 "nbformat": 4,
 "nbformat_minor": 2
}
