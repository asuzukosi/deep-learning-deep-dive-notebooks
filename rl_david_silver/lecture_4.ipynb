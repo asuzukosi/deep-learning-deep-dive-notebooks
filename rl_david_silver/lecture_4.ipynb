{
 "cells": [
  {
   "cell_type": "code",
   "execution_count": null,
   "metadata": {},
   "outputs": [],
   "source": [
    "# Model Free prediction\n",
    "# Introduction\n",
    "# Reinforcement Learning problem.\n",
    "# Markov decision process.\n",
    "\n",
    "# Reward from any state in the MDP\n",
    "# Optimal value function and policy from iterating in a MDP\n",
    "# In model free prediction, we dont know how the environment works. \n"
   ]
  },
  {
   "cell_type": "code",
   "execution_count": null,
   "metadata": {},
   "outputs": [],
   "source": [
    "# Model free prediction: Find the value of a particular policy without having the\n",
    "# markov decision processs"
   ]
  },
  {
   "cell_type": "code",
   "execution_count": null,
   "metadata": {},
   "outputs": [],
   "source": [
    "# Monte-Carlo reinforcement learning\n",
    "# Learn directly from episodes of experience\n",
    "# Sample returns from sample of episodes \n",
    "# Monte-Carlo reinforcement learning only works for episodic learning. "
   ]
  },
  {
   "cell_type": "code",
   "execution_count": null,
   "metadata": {},
   "outputs": [],
   "source": [
    "# Learn Value function from episodes of experience under a certain policy\n",
    "# Gt is the return \n",
    "# Monte Carlo learning uses repeated sampling from experience and finds the mean value from a particular state\n",
    "\n",
    "# First visit monte carlo policy evaluation\n",
    "# Get the mean return from that state upwards of a particular state\n",
    "# The requirement is that we visit all the states\n",
    "\n",
    "# Your trajectory visits the states that you are interested in\n",
    "# Sampling breaks the dependence on the size of the problem.\n"
   ]
  },
  {
   "cell_type": "code",
   "execution_count": null,
   "metadata": {},
   "outputs": [],
   "source": [
    "# Incremental mean.\n",
    "# From sampling returns we can estimate the value function.\n",
    "# Incremental monte-carlo updates\n",
    "# We prefare non-stationary estimators insteaf of taking the full mean"
   ]
  },
  {
   "cell_type": "code",
   "execution_count": null,
   "metadata": {},
   "outputs": [],
   "source": [
    "# Temporal  difference learning\n",
    "# TD learning learn directly from episodes of experience\n",
    "# TD learning allows us to learn from incomplete episodes\n",
    "# TD learning is alos a model free method\n",
    "# TD learning allows us to estimate the value of our state \n",
    "# without following the full trajectory of our state based on the policy\n",
    "# Instead we make estimates of the next states and  approximate the return\n",
    "# this is known as bootstrapping"
   ]
  },
  {
   "cell_type": "code",
   "execution_count": 1,
   "metadata": {},
   "outputs": [],
   "source": [
    "# Difference between our estimate befor and after taking the step is the TD error\n",
    "# Advantages and Disadvantages of MD and TD\n",
    "# TD can learn in situations where we dont see teh final outcome\n",
    "# TD can work well in continous environment\n",
    "# Does TD find the same result as Monte Carlo\n",
    "# We introduce bias into our TD learning, but it has low variance."
   ]
  },
  {
   "cell_type": "code",
   "execution_count": null,
   "metadata": {},
   "outputs": [],
   "source": [
    "# Monte Carlo is high variance but zero bias\n",
    "# TD is usually more efficient than Monte Carlo\n",
    "# Monte Carlo is not very sensitive to initial value\n",
    "# By bootstrapping you can learn much more efficiently\n",
    "\n",
    "# Both monte carlo and temporal differnce learning converge\n",
    "# Monte Carlo converges to the solution that minimizes the mean squared error\n",
    "# TD converges to the solution that best explains the data"
   ]
  },
  {
   "cell_type": "code",
   "execution_count": null,
   "metadata": {},
   "outputs": [],
   "source": [
    "# TD exploits markov property\n",
    "# usually more effiecient in markov environments\n",
    "\n",
    "# Monte Carlo does not exploit markov property\n",
    "# usually more effiecient in non-markov environments"
   ]
  },
  {
   "cell_type": "code",
   "execution_count": null,
   "metadata": {},
   "outputs": [],
   "source": [
    "# Bootstrapping: update involves an estimate\n",
    "# Monte Carlo does not bootstap\n",
    "# Dynamic programming and Temporal difference use bootstrapping"
   ]
  },
  {
   "cell_type": "code",
   "execution_count": null,
   "metadata": {},
   "outputs": [],
   "source": [
    "# Sampling: update samples on expectaton\n",
    "# Monte Carlo and Temporal difference use sampling\n",
    "# Dynamic programming does not sample"
   ]
  },
  {
   "cell_type": "code",
   "execution_count": null,
   "metadata": {},
   "outputs": [],
   "source": [
    "# TD lambda\n",
    "# TD of 1 step to full monte carlo\n",
    "# TD lambda allows us to keep number of steps from TD(0) to full monte carlo\n",
    "# Which n is the best?\n",
    "# If you look forward the right number of steps you can propagate information more efficiently\n",
    "\n",
    "\n",
    "# Recency and Frequency hueristics are combined for eligibility traces \n",
    "# TD(lamda) gives you are range beteen TD and Monte Carlo\n",
    "\n",
    "\n",
    "# Forward View TD(lamda)\n",
    "# Backward View TD(lambda)\n"
   ]
  }
 ],
 "metadata": {
  "kernelspec": {
   "display_name": "Python 3",
   "language": "python",
   "name": "python3"
  },
  "language_info": {
   "codemirror_mode": {
    "name": "ipython",
    "version": 3
   },
   "file_extension": ".py",
   "mimetype": "text/x-python",
   "name": "python",
   "nbconvert_exporter": "python",
   "pygments_lexer": "ipython3",
   "version": "3.11.2"
  },
  "orig_nbformat": 4
 },
 "nbformat": 4,
 "nbformat_minor": 2
}
