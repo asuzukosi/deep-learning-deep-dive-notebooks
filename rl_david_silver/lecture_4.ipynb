{
 "cells": [
  {
   "cell_type": "code",
   "execution_count": null,
   "metadata": {},
   "outputs": [],
   "source": [
    "# Model Free prediction\n",
    "# Introduction\n",
    "# Reinforcement Learning problem.\n",
    "# Markov decision process.\n",
    "\n",
    "# Reward from any state in the MDP\n",
    "# Optimal value function and policy from iterating in a MDP\n",
    "# In model free prediction, we dont know how the environment works. \n"
   ]
  },
  {
   "cell_type": "code",
   "execution_count": null,
   "metadata": {},
   "outputs": [],
   "source": []
  }
 ],
 "metadata": {
  "language_info": {
   "name": "python"
  },
  "orig_nbformat": 4
 },
 "nbformat": 4,
 "nbformat_minor": 2
}
