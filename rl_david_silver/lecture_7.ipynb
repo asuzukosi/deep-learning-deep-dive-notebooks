{
 "cells": [
  {
   "cell_type": "code",
   "execution_count": null,
   "metadata": {},
   "outputs": [],
   "source": [
    "# Policy gradient methods\n",
    "# Finite Difference policy gradient\n",
    "# Monte Carlo policy gradient\n",
    "# Actor Critic policy gradient\n",
    "\n",
    "\n",
    "# These are methods that optimize the policy directly"
   ]
  }
 ],
 "metadata": {
  "language_info": {
   "name": "python"
  },
  "orig_nbformat": 4
 },
 "nbformat": 4,
 "nbformat_minor": 2
}
